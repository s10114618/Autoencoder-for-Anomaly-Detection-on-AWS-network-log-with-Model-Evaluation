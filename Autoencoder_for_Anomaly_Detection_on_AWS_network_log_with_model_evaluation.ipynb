{
  "nbformat": 4,
  "nbformat_minor": 0,
  "metadata": {
    "colab": {
      "name": "Autoencoder for Anomaly Detection on AWS network log with model evaluation.ipynb",
      "provenance": [],
      "collapsed_sections": [],
      "authorship_tag": "ABX9TyPHihzD5brWZYHGrH2HerDZ",
      "include_colab_link": true
    },
    "kernelspec": {
      "name": "python3",
      "display_name": "Python 3"
    },
    "accelerator": "GPU"
  },
  "cells": [
    {
      "cell_type": "markdown",
      "metadata": {
        "id": "view-in-github",
        "colab_type": "text"
      },
      "source": [
        "<a href=\"https://colab.research.google.com/github/s10114618/Autoencoder-for-Anomaly-Detection-on-AWS-network-log-with-Model-Evaluation/blob/master/Autoencoder_for_Anomaly_Detection_on_AWS_network_log_with_model_evaluation.ipynb\" target=\"_parent\"><img src=\"https://colab.research.google.com/assets/colab-badge.svg\" alt=\"Open In Colab\"/></a>"
      ]
    },
    {
      "cell_type": "code",
      "metadata": {
        "id": "kn_U7Mex5jc2",
        "colab_type": "code",
        "colab": {
          "base_uri": "https://localhost:8080/",
          "height": 72
        },
        "outputId": "ca15613b-e14c-4372-fa39-d4239f1bac9e"
      },
      "source": [
        "import pandas as pd\n",
        "import numpy as np\n",
        "import pickle\n",
        "import matplotlib.pyplot as plt\n",
        "from scipy import stats\n",
        "import tensorflow as tf\n",
        "import glob\n",
        "import os\n",
        "import seaborn as sns\n",
        "from sklearn import preprocessing\n",
        "from pylab import rcParams\n",
        "from sklearn.preprocessing import LabelEncoder\n",
        "from sklearn.model_selection import train_test_split\n",
        "from keras.models import Model, load_model\n",
        "from keras.layers import Input, Dense\n",
        "from keras.callbacks import ModelCheckpoint\n",
        "from keras import regularizers\n",
        "from sklearn.model_selection import train_test_split\n",
        "from google_drive_downloader import GoogleDriveDownloader as gdd"
      ],
      "execution_count": 1,
      "outputs": [
        {
          "output_type": "stream",
          "text": [
            "/usr/local/lib/python3.6/dist-packages/statsmodels/tools/_testing.py:19: FutureWarning: pandas.util.testing is deprecated. Use the functions in the public API at pandas.testing instead.\n",
            "  import pandas.util.testing as tm\n",
            "Using TensorFlow backend.\n"
          ],
          "name": "stderr"
        }
      ]
    },
    {
      "cell_type": "code",
      "metadata": {
        "id": "P9xBXeEYpuiA",
        "colab_type": "code",
        "colab": {
          "base_uri": "https://localhost:8080/",
          "height": 92
        },
        "outputId": "7e3a4c44-088d-43ba-f83b-3e3f496295f3"
      },
      "source": [
        "# Download files from google drive\n",
        "gdd.download_file_from_google_drive(file_id='1c6S3HgcfpQA9Hcu4q7R6F1xXIa1cEe8x',\n",
        "                                    dest_path='./data/cse-cic-ids2018.csv',\n",
        "                                    unzip=True)"
      ],
      "execution_count": 2,
      "outputs": [
        {
          "output_type": "stream",
          "text": [
            "Downloading 1c6S3HgcfpQA9Hcu4q7R6F1xXIa1cEe8x into ./data/cse-cic-ids2018.csv... Done.\n",
            "Unzipping..."
          ],
          "name": "stdout"
        },
        {
          "output_type": "stream",
          "text": [
            "/usr/local/lib/python3.6/dist-packages/google_drive_downloader/google_drive_downloader.py:78: UserWarning: Ignoring `unzip` since \"1c6S3HgcfpQA9Hcu4q7R6F1xXIa1cEe8x\" does not look like a valid zip file\n",
            "  warnings.warn('Ignoring `unzip` since \"{}\" does not look like a valid zip file'.format(file_id))\n"
          ],
          "name": "stderr"
        }
      ]
    },
    {
      "cell_type": "code",
      "metadata": {
        "id": "ss6hwnGTp52j",
        "colab_type": "code",
        "colab": {
          "base_uri": "https://localhost:8080/",
          "height": 35
        },
        "outputId": "59bfb57e-9dde-4e05-a20b-c35538e0eea8"
      },
      "source": [
        "logs_directory = \"/content/data\"\n",
        "# change current working directory\n",
        "os.chdir(logs_directory)\n",
        "# find all csv files in folder\n",
        "pcap_files = glob.glob('*.{}'.format(\"csv\"))\n",
        "pcap_files"
      ],
      "execution_count": 3,
      "outputs": [
        {
          "output_type": "execute_result",
          "data": {
            "text/plain": [
              "['cse-cic-ids2018.csv']"
            ]
          },
          "metadata": {
            "tags": []
          },
          "execution_count": 3
        }
      ]
    },
    {
      "cell_type": "code",
      "metadata": {
        "id": "FE6o4az88mko",
        "colab_type": "code",
        "colab": {}
      },
      "source": [
        "# concat multiple csv into one df\n",
        "pcap_array = []\n",
        "for csv in pcap_files:\n",
        "    df = pd.read_csv(csv, index_col=None, header=0)\n",
        "    pcap_array.append(df)\n",
        "df = pd.concat(pcap_array)"
      ],
      "execution_count": 6,
      "outputs": []
    },
    {
      "cell_type": "code",
      "metadata": {
        "id": "0C2kVTP187wU",
        "colab_type": "code",
        "colab": {
          "base_uri": "https://localhost:8080/",
          "height": 356
        },
        "outputId": "c9817983-899d-460e-dbbe-b9aa6280c5db"
      },
      "source": [
        "df.head()"
      ],
      "execution_count": 7,
      "outputs": [
        {
          "output_type": "execute_result",
          "data": {
            "text/html": [
              "<div>\n",
              "<style scoped>\n",
              "    .dataframe tbody tr th:only-of-type {\n",
              "        vertical-align: middle;\n",
              "    }\n",
              "\n",
              "    .dataframe tbody tr th {\n",
              "        vertical-align: top;\n",
              "    }\n",
              "\n",
              "    .dataframe thead th {\n",
              "        text-align: right;\n",
              "    }\n",
              "</style>\n",
              "<table border=\"1\" class=\"dataframe\">\n",
              "  <thead>\n",
              "    <tr style=\"text-align: right;\">\n",
              "      <th></th>\n",
              "      <th>Dst Port</th>\n",
              "      <th>Protocol</th>\n",
              "      <th>Timestamp</th>\n",
              "      <th>Flow Duration</th>\n",
              "      <th>Tot Fwd Pkts</th>\n",
              "      <th>Tot Bwd Pkts</th>\n",
              "      <th>TotLen Fwd Pkts</th>\n",
              "      <th>TotLen Bwd Pkts</th>\n",
              "      <th>Fwd Pkt Len Max</th>\n",
              "      <th>Fwd Pkt Len Min</th>\n",
              "      <th>Fwd Pkt Len Mean</th>\n",
              "      <th>Fwd Pkt Len Std</th>\n",
              "      <th>Bwd Pkt Len Max</th>\n",
              "      <th>Bwd Pkt Len Min</th>\n",
              "      <th>Bwd Pkt Len Mean</th>\n",
              "      <th>Bwd Pkt Len Std</th>\n",
              "      <th>Flow Byts/s</th>\n",
              "      <th>Flow Pkts/s</th>\n",
              "      <th>Flow IAT Mean</th>\n",
              "      <th>Flow IAT Std</th>\n",
              "      <th>Flow IAT Max</th>\n",
              "      <th>Flow IAT Min</th>\n",
              "      <th>Fwd IAT Tot</th>\n",
              "      <th>Fwd IAT Mean</th>\n",
              "      <th>Fwd IAT Std</th>\n",
              "      <th>Fwd IAT Max</th>\n",
              "      <th>Fwd IAT Min</th>\n",
              "      <th>Bwd IAT Tot</th>\n",
              "      <th>Bwd IAT Mean</th>\n",
              "      <th>Bwd IAT Std</th>\n",
              "      <th>Bwd IAT Max</th>\n",
              "      <th>Bwd IAT Min</th>\n",
              "      <th>Fwd PSH Flags</th>\n",
              "      <th>Bwd PSH Flags</th>\n",
              "      <th>Fwd URG Flags</th>\n",
              "      <th>Bwd URG Flags</th>\n",
              "      <th>Fwd Header Len</th>\n",
              "      <th>Bwd Header Len</th>\n",
              "      <th>Fwd Pkts/s</th>\n",
              "      <th>Bwd Pkts/s</th>\n",
              "      <th>Pkt Len Min</th>\n",
              "      <th>Pkt Len Max</th>\n",
              "      <th>Pkt Len Mean</th>\n",
              "      <th>Pkt Len Std</th>\n",
              "      <th>Pkt Len Var</th>\n",
              "      <th>FIN Flag Cnt</th>\n",
              "      <th>SYN Flag Cnt</th>\n",
              "      <th>RST Flag Cnt</th>\n",
              "      <th>PSH Flag Cnt</th>\n",
              "      <th>ACK Flag Cnt</th>\n",
              "      <th>URG Flag Cnt</th>\n",
              "      <th>CWE Flag Count</th>\n",
              "      <th>ECE Flag Cnt</th>\n",
              "      <th>Down/Up Ratio</th>\n",
              "      <th>Pkt Size Avg</th>\n",
              "      <th>Fwd Seg Size Avg</th>\n",
              "      <th>Bwd Seg Size Avg</th>\n",
              "      <th>Fwd Byts/b Avg</th>\n",
              "      <th>Fwd Pkts/b Avg</th>\n",
              "      <th>Fwd Blk Rate Avg</th>\n",
              "      <th>Bwd Byts/b Avg</th>\n",
              "      <th>Bwd Pkts/b Avg</th>\n",
              "      <th>Bwd Blk Rate Avg</th>\n",
              "      <th>Subflow Fwd Pkts</th>\n",
              "      <th>Subflow Fwd Byts</th>\n",
              "      <th>Subflow Bwd Pkts</th>\n",
              "      <th>Subflow Bwd Byts</th>\n",
              "      <th>Init Fwd Win Byts</th>\n",
              "      <th>Init Bwd Win Byts</th>\n",
              "      <th>Fwd Act Data Pkts</th>\n",
              "      <th>Fwd Seg Size Min</th>\n",
              "      <th>Active Mean</th>\n",
              "      <th>Active Std</th>\n",
              "      <th>Active Max</th>\n",
              "      <th>Active Min</th>\n",
              "      <th>Idle Mean</th>\n",
              "      <th>Idle Std</th>\n",
              "      <th>Idle Max</th>\n",
              "      <th>Idle Min</th>\n",
              "      <th>Label</th>\n",
              "    </tr>\n",
              "  </thead>\n",
              "  <tbody>\n",
              "    <tr>\n",
              "      <th>0</th>\n",
              "      <td>0</td>\n",
              "      <td>0</td>\n",
              "      <td>15/02/2018 08:25:18</td>\n",
              "      <td>112641158</td>\n",
              "      <td>3</td>\n",
              "      <td>0</td>\n",
              "      <td>0</td>\n",
              "      <td>0</td>\n",
              "      <td>0</td>\n",
              "      <td>0</td>\n",
              "      <td>0.000000</td>\n",
              "      <td>0.000000</td>\n",
              "      <td>0</td>\n",
              "      <td>0</td>\n",
              "      <td>0.000000</td>\n",
              "      <td>0.000000</td>\n",
              "      <td>0.000000</td>\n",
              "      <td>0.026633</td>\n",
              "      <td>56320579.00</td>\n",
              "      <td>7.042784e+02</td>\n",
              "      <td>56321077</td>\n",
              "      <td>56320081</td>\n",
              "      <td>112641158</td>\n",
              "      <td>5.632058e+07</td>\n",
              "      <td>7.042784e+02</td>\n",
              "      <td>56321077</td>\n",
              "      <td>56320081</td>\n",
              "      <td>0</td>\n",
              "      <td>0.000000e+00</td>\n",
              "      <td>0.000000e+00</td>\n",
              "      <td>0</td>\n",
              "      <td>0</td>\n",
              "      <td>0</td>\n",
              "      <td>0</td>\n",
              "      <td>0</td>\n",
              "      <td>0</td>\n",
              "      <td>0</td>\n",
              "      <td>0</td>\n",
              "      <td>0.026633</td>\n",
              "      <td>0.000000</td>\n",
              "      <td>0</td>\n",
              "      <td>0</td>\n",
              "      <td>0.000000</td>\n",
              "      <td>0.000000</td>\n",
              "      <td>0.000000</td>\n",
              "      <td>0</td>\n",
              "      <td>0</td>\n",
              "      <td>0</td>\n",
              "      <td>0</td>\n",
              "      <td>0</td>\n",
              "      <td>0</td>\n",
              "      <td>0</td>\n",
              "      <td>0</td>\n",
              "      <td>0</td>\n",
              "      <td>0.0</td>\n",
              "      <td>0.000000</td>\n",
              "      <td>0.000000</td>\n",
              "      <td>0</td>\n",
              "      <td>0</td>\n",
              "      <td>0</td>\n",
              "      <td>0</td>\n",
              "      <td>0</td>\n",
              "      <td>0</td>\n",
              "      <td>3</td>\n",
              "      <td>0</td>\n",
              "      <td>0</td>\n",
              "      <td>0</td>\n",
              "      <td>-1</td>\n",
              "      <td>-1</td>\n",
              "      <td>0</td>\n",
              "      <td>0</td>\n",
              "      <td>0.0</td>\n",
              "      <td>0.000000</td>\n",
              "      <td>0</td>\n",
              "      <td>0</td>\n",
              "      <td>56320579.0</td>\n",
              "      <td>7.042784e+02</td>\n",
              "      <td>56321077</td>\n",
              "      <td>56320081</td>\n",
              "      <td>Benign</td>\n",
              "    </tr>\n",
              "    <tr>\n",
              "      <th>1</th>\n",
              "      <td>22</td>\n",
              "      <td>6</td>\n",
              "      <td>15/02/2018 08:29:05</td>\n",
              "      <td>37366762</td>\n",
              "      <td>14</td>\n",
              "      <td>12</td>\n",
              "      <td>2168</td>\n",
              "      <td>2993</td>\n",
              "      <td>712</td>\n",
              "      <td>0</td>\n",
              "      <td>154.857143</td>\n",
              "      <td>254.855270</td>\n",
              "      <td>976</td>\n",
              "      <td>0</td>\n",
              "      <td>249.416667</td>\n",
              "      <td>395.929392</td>\n",
              "      <td>138.117400</td>\n",
              "      <td>0.695806</td>\n",
              "      <td>1494670.48</td>\n",
              "      <td>3.894924e+06</td>\n",
              "      <td>15617415</td>\n",
              "      <td>7</td>\n",
              "      <td>37366762</td>\n",
              "      <td>2.874366e+06</td>\n",
              "      <td>5.104444e+06</td>\n",
              "      <td>15617415</td>\n",
              "      <td>40</td>\n",
              "      <td>37366730</td>\n",
              "      <td>3.396975e+06</td>\n",
              "      <td>5.564224e+06</td>\n",
              "      <td>15936762</td>\n",
              "      <td>893</td>\n",
              "      <td>0</td>\n",
              "      <td>0</td>\n",
              "      <td>0</td>\n",
              "      <td>0</td>\n",
              "      <td>456</td>\n",
              "      <td>416</td>\n",
              "      <td>0.374665</td>\n",
              "      <td>0.321141</td>\n",
              "      <td>0</td>\n",
              "      <td>976</td>\n",
              "      <td>191.148148</td>\n",
              "      <td>320.122898</td>\n",
              "      <td>102478.669516</td>\n",
              "      <td>0</td>\n",
              "      <td>0</td>\n",
              "      <td>0</td>\n",
              "      <td>1</td>\n",
              "      <td>0</td>\n",
              "      <td>0</td>\n",
              "      <td>0</td>\n",
              "      <td>0</td>\n",
              "      <td>0</td>\n",
              "      <td>198.5</td>\n",
              "      <td>154.857143</td>\n",
              "      <td>249.416667</td>\n",
              "      <td>0</td>\n",
              "      <td>0</td>\n",
              "      <td>0</td>\n",
              "      <td>0</td>\n",
              "      <td>0</td>\n",
              "      <td>0</td>\n",
              "      <td>14</td>\n",
              "      <td>2168</td>\n",
              "      <td>12</td>\n",
              "      <td>2993</td>\n",
              "      <td>29200</td>\n",
              "      <td>232</td>\n",
              "      <td>8</td>\n",
              "      <td>32</td>\n",
              "      <td>1024353.0</td>\n",
              "      <td>649038.754495</td>\n",
              "      <td>1601183</td>\n",
              "      <td>321569</td>\n",
              "      <td>11431221.0</td>\n",
              "      <td>3.644991e+06</td>\n",
              "      <td>15617415</td>\n",
              "      <td>8960247</td>\n",
              "      <td>Benign</td>\n",
              "    </tr>\n",
              "    <tr>\n",
              "      <th>2</th>\n",
              "      <td>47514</td>\n",
              "      <td>6</td>\n",
              "      <td>15/02/2018 08:29:42</td>\n",
              "      <td>543</td>\n",
              "      <td>2</td>\n",
              "      <td>0</td>\n",
              "      <td>64</td>\n",
              "      <td>0</td>\n",
              "      <td>64</td>\n",
              "      <td>0</td>\n",
              "      <td>32.000000</td>\n",
              "      <td>45.254834</td>\n",
              "      <td>0</td>\n",
              "      <td>0</td>\n",
              "      <td>0.000000</td>\n",
              "      <td>0.000000</td>\n",
              "      <td>117863.720074</td>\n",
              "      <td>3683.241252</td>\n",
              "      <td>543.00</td>\n",
              "      <td>0.000000e+00</td>\n",
              "      <td>543</td>\n",
              "      <td>543</td>\n",
              "      <td>543</td>\n",
              "      <td>5.430000e+02</td>\n",
              "      <td>0.000000e+00</td>\n",
              "      <td>543</td>\n",
              "      <td>543</td>\n",
              "      <td>0</td>\n",
              "      <td>0.000000e+00</td>\n",
              "      <td>0.000000e+00</td>\n",
              "      <td>0</td>\n",
              "      <td>0</td>\n",
              "      <td>1</td>\n",
              "      <td>0</td>\n",
              "      <td>0</td>\n",
              "      <td>0</td>\n",
              "      <td>64</td>\n",
              "      <td>0</td>\n",
              "      <td>3683.241252</td>\n",
              "      <td>0.000000</td>\n",
              "      <td>0</td>\n",
              "      <td>64</td>\n",
              "      <td>42.666667</td>\n",
              "      <td>36.950417</td>\n",
              "      <td>1365.333333</td>\n",
              "      <td>0</td>\n",
              "      <td>1</td>\n",
              "      <td>0</td>\n",
              "      <td>0</td>\n",
              "      <td>1</td>\n",
              "      <td>0</td>\n",
              "      <td>0</td>\n",
              "      <td>0</td>\n",
              "      <td>0</td>\n",
              "      <td>64.0</td>\n",
              "      <td>32.000000</td>\n",
              "      <td>0.000000</td>\n",
              "      <td>0</td>\n",
              "      <td>0</td>\n",
              "      <td>0</td>\n",
              "      <td>0</td>\n",
              "      <td>0</td>\n",
              "      <td>0</td>\n",
              "      <td>2</td>\n",
              "      <td>64</td>\n",
              "      <td>0</td>\n",
              "      <td>0</td>\n",
              "      <td>244</td>\n",
              "      <td>-1</td>\n",
              "      <td>0</td>\n",
              "      <td>32</td>\n",
              "      <td>0.0</td>\n",
              "      <td>0.000000</td>\n",
              "      <td>0</td>\n",
              "      <td>0</td>\n",
              "      <td>0.0</td>\n",
              "      <td>0.000000e+00</td>\n",
              "      <td>0</td>\n",
              "      <td>0</td>\n",
              "      <td>Benign</td>\n",
              "    </tr>\n",
              "    <tr>\n",
              "      <th>3</th>\n",
              "      <td>0</td>\n",
              "      <td>0</td>\n",
              "      <td>15/02/2018 08:28:07</td>\n",
              "      <td>112640703</td>\n",
              "      <td>3</td>\n",
              "      <td>0</td>\n",
              "      <td>0</td>\n",
              "      <td>0</td>\n",
              "      <td>0</td>\n",
              "      <td>0</td>\n",
              "      <td>0.000000</td>\n",
              "      <td>0.000000</td>\n",
              "      <td>0</td>\n",
              "      <td>0</td>\n",
              "      <td>0.000000</td>\n",
              "      <td>0.000000</td>\n",
              "      <td>0.000000</td>\n",
              "      <td>0.026633</td>\n",
              "      <td>56320351.50</td>\n",
              "      <td>3.669884e+02</td>\n",
              "      <td>56320611</td>\n",
              "      <td>56320092</td>\n",
              "      <td>112640703</td>\n",
              "      <td>5.632035e+07</td>\n",
              "      <td>3.669884e+02</td>\n",
              "      <td>56320611</td>\n",
              "      <td>56320092</td>\n",
              "      <td>0</td>\n",
              "      <td>0.000000e+00</td>\n",
              "      <td>0.000000e+00</td>\n",
              "      <td>0</td>\n",
              "      <td>0</td>\n",
              "      <td>0</td>\n",
              "      <td>0</td>\n",
              "      <td>0</td>\n",
              "      <td>0</td>\n",
              "      <td>0</td>\n",
              "      <td>0</td>\n",
              "      <td>0.026633</td>\n",
              "      <td>0.000000</td>\n",
              "      <td>0</td>\n",
              "      <td>0</td>\n",
              "      <td>0.000000</td>\n",
              "      <td>0.000000</td>\n",
              "      <td>0.000000</td>\n",
              "      <td>0</td>\n",
              "      <td>0</td>\n",
              "      <td>0</td>\n",
              "      <td>0</td>\n",
              "      <td>0</td>\n",
              "      <td>0</td>\n",
              "      <td>0</td>\n",
              "      <td>0</td>\n",
              "      <td>0</td>\n",
              "      <td>0.0</td>\n",
              "      <td>0.000000</td>\n",
              "      <td>0.000000</td>\n",
              "      <td>0</td>\n",
              "      <td>0</td>\n",
              "      <td>0</td>\n",
              "      <td>0</td>\n",
              "      <td>0</td>\n",
              "      <td>0</td>\n",
              "      <td>3</td>\n",
              "      <td>0</td>\n",
              "      <td>0</td>\n",
              "      <td>0</td>\n",
              "      <td>-1</td>\n",
              "      <td>-1</td>\n",
              "      <td>0</td>\n",
              "      <td>0</td>\n",
              "      <td>0.0</td>\n",
              "      <td>0.000000</td>\n",
              "      <td>0</td>\n",
              "      <td>0</td>\n",
              "      <td>56320351.5</td>\n",
              "      <td>3.669884e+02</td>\n",
              "      <td>56320611</td>\n",
              "      <td>56320092</td>\n",
              "      <td>Benign</td>\n",
              "    </tr>\n",
              "    <tr>\n",
              "      <th>4</th>\n",
              "      <td>0</td>\n",
              "      <td>0</td>\n",
              "      <td>15/02/2018 08:30:56</td>\n",
              "      <td>112640874</td>\n",
              "      <td>3</td>\n",
              "      <td>0</td>\n",
              "      <td>0</td>\n",
              "      <td>0</td>\n",
              "      <td>0</td>\n",
              "      <td>0</td>\n",
              "      <td>0.000000</td>\n",
              "      <td>0.000000</td>\n",
              "      <td>0</td>\n",
              "      <td>0</td>\n",
              "      <td>0.000000</td>\n",
              "      <td>0.000000</td>\n",
              "      <td>0.000000</td>\n",
              "      <td>0.026633</td>\n",
              "      <td>56320437.00</td>\n",
              "      <td>7.198347e+02</td>\n",
              "      <td>56320946</td>\n",
              "      <td>56319928</td>\n",
              "      <td>112640874</td>\n",
              "      <td>5.632044e+07</td>\n",
              "      <td>7.198347e+02</td>\n",
              "      <td>56320946</td>\n",
              "      <td>56319928</td>\n",
              "      <td>0</td>\n",
              "      <td>0.000000e+00</td>\n",
              "      <td>0.000000e+00</td>\n",
              "      <td>0</td>\n",
              "      <td>0</td>\n",
              "      <td>0</td>\n",
              "      <td>0</td>\n",
              "      <td>0</td>\n",
              "      <td>0</td>\n",
              "      <td>0</td>\n",
              "      <td>0</td>\n",
              "      <td>0.026633</td>\n",
              "      <td>0.000000</td>\n",
              "      <td>0</td>\n",
              "      <td>0</td>\n",
              "      <td>0.000000</td>\n",
              "      <td>0.000000</td>\n",
              "      <td>0.000000</td>\n",
              "      <td>0</td>\n",
              "      <td>0</td>\n",
              "      <td>0</td>\n",
              "      <td>0</td>\n",
              "      <td>0</td>\n",
              "      <td>0</td>\n",
              "      <td>0</td>\n",
              "      <td>0</td>\n",
              "      <td>0</td>\n",
              "      <td>0.0</td>\n",
              "      <td>0.000000</td>\n",
              "      <td>0.000000</td>\n",
              "      <td>0</td>\n",
              "      <td>0</td>\n",
              "      <td>0</td>\n",
              "      <td>0</td>\n",
              "      <td>0</td>\n",
              "      <td>0</td>\n",
              "      <td>3</td>\n",
              "      <td>0</td>\n",
              "      <td>0</td>\n",
              "      <td>0</td>\n",
              "      <td>-1</td>\n",
              "      <td>-1</td>\n",
              "      <td>0</td>\n",
              "      <td>0</td>\n",
              "      <td>0.0</td>\n",
              "      <td>0.000000</td>\n",
              "      <td>0</td>\n",
              "      <td>0</td>\n",
              "      <td>56320437.0</td>\n",
              "      <td>7.198347e+02</td>\n",
              "      <td>56320946</td>\n",
              "      <td>56319928</td>\n",
              "      <td>Benign</td>\n",
              "    </tr>\n",
              "  </tbody>\n",
              "</table>\n",
              "</div>"
            ],
            "text/plain": [
              "   Dst Port  Protocol            Timestamp  ...  Idle Max  Idle Min   Label\n",
              "0         0         0  15/02/2018 08:25:18  ...  56321077  56320081  Benign\n",
              "1        22         6  15/02/2018 08:29:05  ...  15617415   8960247  Benign\n",
              "2     47514         6  15/02/2018 08:29:42  ...         0         0  Benign\n",
              "3         0         0  15/02/2018 08:28:07  ...  56320611  56320092  Benign\n",
              "4         0         0  15/02/2018 08:30:56  ...  56320946  56319928  Benign\n",
              "\n",
              "[5 rows x 80 columns]"
            ]
          },
          "metadata": {
            "tags": []
          },
          "execution_count": 7
        }
      ]
    },
    {
      "cell_type": "code",
      "metadata": {
        "id": "ADrN9z_U0KGk",
        "colab_type": "code",
        "colab": {
          "base_uri": "https://localhost:8080/",
          "height": 35
        },
        "outputId": "1bcfe887-76b9-4395-a8cc-06cb38e5fe20"
      },
      "source": [
        "df.shape"
      ],
      "execution_count": 8,
      "outputs": [
        {
          "output_type": "execute_result",
          "data": {
            "text/plain": [
              "(1048575, 80)"
            ]
          },
          "metadata": {
            "tags": []
          },
          "execution_count": 8
        }
      ]
    },
    {
      "cell_type": "code",
      "metadata": {
        "id": "871XZbWSZ5WQ",
        "colab_type": "code",
        "colab": {}
      },
      "source": [
        "# Test on 2 type of classes.\n",
        "df = df[ (df['Label'] == 'Benign') | (df['Label'] == 'DoS attacks-GoldenEye')].reset_index().drop(['index'], axis=1)"
      ],
      "execution_count": 9,
      "outputs": []
    },
    {
      "cell_type": "code",
      "metadata": {
        "id": "cUFSK8yQbXjW",
        "colab_type": "code",
        "colab": {
          "base_uri": "https://localhost:8080/",
          "height": 72
        },
        "outputId": "affaef36-603b-4b0d-8da6-bd1ae05b1efd"
      },
      "source": [
        "df['Label'].drop_duplicates()"
      ],
      "execution_count": 10,
      "outputs": [
        {
          "output_type": "execute_result",
          "data": {
            "text/plain": [
              "0                    Benign\n",
              "44    DoS attacks-GoldenEye\n",
              "Name: Label, dtype: object"
            ]
          },
          "metadata": {
            "tags": []
          },
          "execution_count": 10
        }
      ]
    },
    {
      "cell_type": "code",
      "metadata": {
        "id": "4zvbrJ5Xb-Od",
        "colab_type": "code",
        "colab": {
          "base_uri": "https://localhost:8080/",
          "height": 35
        },
        "outputId": "e5564eb9-937c-4322-cc51-c9bd60cbdbb5"
      },
      "source": [
        "df.shape"
      ],
      "execution_count": 11,
      "outputs": [
        {
          "output_type": "execute_result",
          "data": {
            "text/plain": [
              "(1037585, 80)"
            ]
          },
          "metadata": {
            "tags": []
          },
          "execution_count": 11
        }
      ]
    },
    {
      "cell_type": "code",
      "metadata": {
        "id": "ooowox7acavb",
        "colab_type": "code",
        "colab": {
          "base_uri": "https://localhost:8080/",
          "height": 54
        },
        "outputId": "c67f5d2d-6c47-4cfc-c2d1-b334241fb720"
      },
      "source": [
        "print(len(df[df['Label'] == 'Benign']))\n",
        "print(len(df[df['Label'] == 'DoS attacks-GoldenEye']))\n",
        "#print(len(df[df['Label'] == 'DoS attacks-Slowloris']))"
      ],
      "execution_count": 12,
      "outputs": [
        {
          "output_type": "stream",
          "text": [
            "996077\n",
            "41508\n"
          ],
          "name": "stdout"
        }
      ]
    },
    {
      "cell_type": "code",
      "metadata": {
        "id": "iB7r2u0lXg71",
        "colab_type": "code",
        "colab": {}
      },
      "source": [
        "## Some of the data contains na,inf and -inf. Set them to 0.\n",
        "df['Flow Byts/s'].fillna(0, inplace=True)\n",
        "df['Flow Byts/s'] = df['Flow Byts/s'].replace(np.inf, 0)\n",
        "df['Flow Pkts/s'] = df['Flow Pkts/s'].replace(np.inf, 0)\n",
        "df['Flow Byts/s'] = df['Flow Byts/s'].replace(-np.inf, 0)\n",
        "df['Flow Pkts/s'] = df['Flow Pkts/s'].replace(-np.inf, 0)"
      ],
      "execution_count": 13,
      "outputs": []
    },
    {
      "cell_type": "code",
      "metadata": {
        "id": "SpKaFxllvLSh",
        "colab_type": "code",
        "colab": {}
      },
      "source": [
        "## Remove non-numeric and normalise the data\n",
        "x_col = ['Dst Port', 'Protocol', 'Flow Duration', 'Tot Fwd Pkts', 'Tot Bwd Pkts', 'TotLen Fwd Pkts', 'TotLen Bwd Pkts', 'Fwd Pkt Len Max', 'Fwd Pkt Len Min', 'Fwd Pkt Len Mean', 'Fwd Pkt Len Std', 'Bwd Pkt Len Max', 'Bwd Pkt Len Min', 'Bwd Pkt Len Mean', 'Bwd Pkt Len Std', 'Flow Byts/s', 'Flow Pkts/s', 'Flow IAT Mean', 'Flow IAT Std', 'Flow IAT Max', 'Flow IAT Min', 'Fwd IAT Tot', 'Fwd IAT Mean', 'Fwd IAT Std', 'Fwd IAT Max', 'Fwd IAT Min', 'Bwd IAT Tot', 'Bwd IAT Mean', 'Bwd IAT Std', 'Bwd IAT Max', 'Bwd IAT Min', 'Fwd PSH Flags', 'Bwd PSH Flags', 'Fwd URG Flags', 'Bwd URG Flags', 'Fwd Header Len', 'Bwd Header Len', 'Fwd Pkts/s', 'Bwd Pkts/s', 'Pkt Len Min', 'Pkt Len Max', 'Pkt Len Mean', 'Pkt Len Std', 'Pkt Len Var', 'FIN Flag Cnt', 'SYN Flag Cnt', 'RST Flag Cnt', 'PSH Flag Cnt', 'ACK Flag Cnt', 'URG Flag Cnt', 'CWE Flag Count', 'ECE Flag Cnt', 'Down/Up Ratio', 'Pkt Size Avg', 'Fwd Seg Size Avg', 'Bwd Seg Size Avg', 'Fwd Byts/b Avg', 'Fwd Pkts/b Avg', 'Fwd Blk Rate Avg', 'Bwd Byts/b Avg', 'Bwd Pkts/b Avg', 'Bwd Blk Rate Avg', 'Subflow Fwd Pkts', 'Subflow Fwd Byts', 'Subflow Bwd Pkts', 'Subflow Bwd Byts', 'Init Fwd Win Byts', 'Init Bwd Win Byts', 'Fwd Act Data Pkts', 'Fwd Seg Size Min', 'Active Mean', 'Active Std', 'Active Max', 'Active Min', 'Idle Mean', 'Idle Std', 'Idle Max', 'Idle Min']\n",
        "x = df[x_col]\n",
        "min_max_scaler = preprocessing.MinMaxScaler()\n",
        "x_scaled = min_max_scaler.fit_transform(x.values)\n",
        "x = pd.DataFrame(x_scaled, columns=x_col)\n",
        "## Append back with non-numeric data after normalise\n",
        "df = df[['Label']].join(x)"
      ],
      "execution_count": 14,
      "outputs": []
    },
    {
      "cell_type": "code",
      "metadata": {
        "id": "wWbuYobfcQXW",
        "colab_type": "code",
        "colab": {
          "base_uri": "https://localhost:8080/",
          "height": 356
        },
        "outputId": "2d9ae646-00d6-43c3-ffb1-dc0123285c3e"
      },
      "source": [
        "df.head()"
      ],
      "execution_count": 15,
      "outputs": [
        {
          "output_type": "execute_result",
          "data": {
            "text/html": [
              "<div>\n",
              "<style scoped>\n",
              "    .dataframe tbody tr th:only-of-type {\n",
              "        vertical-align: middle;\n",
              "    }\n",
              "\n",
              "    .dataframe tbody tr th {\n",
              "        vertical-align: top;\n",
              "    }\n",
              "\n",
              "    .dataframe thead th {\n",
              "        text-align: right;\n",
              "    }\n",
              "</style>\n",
              "<table border=\"1\" class=\"dataframe\">\n",
              "  <thead>\n",
              "    <tr style=\"text-align: right;\">\n",
              "      <th></th>\n",
              "      <th>Label</th>\n",
              "      <th>Dst Port</th>\n",
              "      <th>Protocol</th>\n",
              "      <th>Flow Duration</th>\n",
              "      <th>Tot Fwd Pkts</th>\n",
              "      <th>Tot Bwd Pkts</th>\n",
              "      <th>TotLen Fwd Pkts</th>\n",
              "      <th>TotLen Bwd Pkts</th>\n",
              "      <th>Fwd Pkt Len Max</th>\n",
              "      <th>Fwd Pkt Len Min</th>\n",
              "      <th>Fwd Pkt Len Mean</th>\n",
              "      <th>Fwd Pkt Len Std</th>\n",
              "      <th>Bwd Pkt Len Max</th>\n",
              "      <th>Bwd Pkt Len Min</th>\n",
              "      <th>Bwd Pkt Len Mean</th>\n",
              "      <th>Bwd Pkt Len Std</th>\n",
              "      <th>Flow Byts/s</th>\n",
              "      <th>Flow Pkts/s</th>\n",
              "      <th>Flow IAT Mean</th>\n",
              "      <th>Flow IAT Std</th>\n",
              "      <th>Flow IAT Max</th>\n",
              "      <th>Flow IAT Min</th>\n",
              "      <th>Fwd IAT Tot</th>\n",
              "      <th>Fwd IAT Mean</th>\n",
              "      <th>Fwd IAT Std</th>\n",
              "      <th>Fwd IAT Max</th>\n",
              "      <th>Fwd IAT Min</th>\n",
              "      <th>Bwd IAT Tot</th>\n",
              "      <th>Bwd IAT Mean</th>\n",
              "      <th>Bwd IAT Std</th>\n",
              "      <th>Bwd IAT Max</th>\n",
              "      <th>Bwd IAT Min</th>\n",
              "      <th>Fwd PSH Flags</th>\n",
              "      <th>Bwd PSH Flags</th>\n",
              "      <th>Fwd URG Flags</th>\n",
              "      <th>Bwd URG Flags</th>\n",
              "      <th>Fwd Header Len</th>\n",
              "      <th>Bwd Header Len</th>\n",
              "      <th>Fwd Pkts/s</th>\n",
              "      <th>Bwd Pkts/s</th>\n",
              "      <th>Pkt Len Min</th>\n",
              "      <th>Pkt Len Max</th>\n",
              "      <th>Pkt Len Mean</th>\n",
              "      <th>Pkt Len Std</th>\n",
              "      <th>Pkt Len Var</th>\n",
              "      <th>FIN Flag Cnt</th>\n",
              "      <th>SYN Flag Cnt</th>\n",
              "      <th>RST Flag Cnt</th>\n",
              "      <th>PSH Flag Cnt</th>\n",
              "      <th>ACK Flag Cnt</th>\n",
              "      <th>URG Flag Cnt</th>\n",
              "      <th>CWE Flag Count</th>\n",
              "      <th>ECE Flag Cnt</th>\n",
              "      <th>Down/Up Ratio</th>\n",
              "      <th>Pkt Size Avg</th>\n",
              "      <th>Fwd Seg Size Avg</th>\n",
              "      <th>Bwd Seg Size Avg</th>\n",
              "      <th>Fwd Byts/b Avg</th>\n",
              "      <th>Fwd Pkts/b Avg</th>\n",
              "      <th>Fwd Blk Rate Avg</th>\n",
              "      <th>Bwd Byts/b Avg</th>\n",
              "      <th>Bwd Pkts/b Avg</th>\n",
              "      <th>Bwd Blk Rate Avg</th>\n",
              "      <th>Subflow Fwd Pkts</th>\n",
              "      <th>Subflow Fwd Byts</th>\n",
              "      <th>Subflow Bwd Pkts</th>\n",
              "      <th>Subflow Bwd Byts</th>\n",
              "      <th>Init Fwd Win Byts</th>\n",
              "      <th>Init Bwd Win Byts</th>\n",
              "      <th>Fwd Act Data Pkts</th>\n",
              "      <th>Fwd Seg Size Min</th>\n",
              "      <th>Active Mean</th>\n",
              "      <th>Active Std</th>\n",
              "      <th>Active Max</th>\n",
              "      <th>Active Min</th>\n",
              "      <th>Idle Mean</th>\n",
              "      <th>Idle Std</th>\n",
              "      <th>Idle Max</th>\n",
              "      <th>Idle Min</th>\n",
              "    </tr>\n",
              "  </thead>\n",
              "  <tbody>\n",
              "    <tr>\n",
              "      <th>0</th>\n",
              "      <td>Benign</td>\n",
              "      <td>0.000000</td>\n",
              "      <td>0.000000</td>\n",
              "      <td>0.938676</td>\n",
              "      <td>0.000222</td>\n",
              "      <td>0.000000</td>\n",
              "      <td>0.000000</td>\n",
              "      <td>0.000000</td>\n",
              "      <td>0.000000</td>\n",
              "      <td>0.0</td>\n",
              "      <td>0.000000</td>\n",
              "      <td>0.000000</td>\n",
              "      <td>0.000000</td>\n",
              "      <td>0.0</td>\n",
              "      <td>0.000000</td>\n",
              "      <td>0.000000</td>\n",
              "      <td>0.000000e+00</td>\n",
              "      <td>6.658312e-09</td>\n",
              "      <td>0.469371</td>\n",
              "      <td>0.000008</td>\n",
              "      <td>0.469375</td>\n",
              "      <td>4.693672e-01</td>\n",
              "      <td>0.938677</td>\n",
              "      <td>0.469371</td>\n",
              "      <td>0.000008</td>\n",
              "      <td>0.469375</td>\n",
              "      <td>4.693672e-01</td>\n",
              "      <td>0.00000</td>\n",
              "      <td>0.000000</td>\n",
              "      <td>0.000000</td>\n",
              "      <td>0.000000</td>\n",
              "      <td>0.000000</td>\n",
              "      <td>0.0</td>\n",
              "      <td>0.0</td>\n",
              "      <td>0.0</td>\n",
              "      <td>0.0</td>\n",
              "      <td>0.000000</td>\n",
              "      <td>0.000000</td>\n",
              "      <td>6.658312e-09</td>\n",
              "      <td>0.000000e+00</td>\n",
              "      <td>0.0</td>\n",
              "      <td>0.000000</td>\n",
              "      <td>0.000000</td>\n",
              "      <td>0.000000</td>\n",
              "      <td>0.000000</td>\n",
              "      <td>0.0</td>\n",
              "      <td>0.0</td>\n",
              "      <td>0.0</td>\n",
              "      <td>0.0</td>\n",
              "      <td>0.0</td>\n",
              "      <td>0.0</td>\n",
              "      <td>0.0</td>\n",
              "      <td>0.0</td>\n",
              "      <td>0.0</td>\n",
              "      <td>0.000000</td>\n",
              "      <td>0.000000</td>\n",
              "      <td>0.000000</td>\n",
              "      <td>0.0</td>\n",
              "      <td>0.0</td>\n",
              "      <td>0.0</td>\n",
              "      <td>0.0</td>\n",
              "      <td>0.0</td>\n",
              "      <td>0.0</td>\n",
              "      <td>0.000222</td>\n",
              "      <td>0.000000</td>\n",
              "      <td>0.000000</td>\n",
              "      <td>0.000000</td>\n",
              "      <td>0.000000</td>\n",
              "      <td>0.000000</td>\n",
              "      <td>0.00000</td>\n",
              "      <td>0.000000</td>\n",
              "      <td>0.000000</td>\n",
              "      <td>0.000000</td>\n",
              "      <td>0.000000</td>\n",
              "      <td>0.000000</td>\n",
              "      <td>0.469371</td>\n",
              "      <td>0.000010</td>\n",
              "      <td>0.469375</td>\n",
              "      <td>0.469367</td>\n",
              "    </tr>\n",
              "    <tr>\n",
              "      <th>1</th>\n",
              "      <td>Benign</td>\n",
              "      <td>0.000336</td>\n",
              "      <td>0.352941</td>\n",
              "      <td>0.311390</td>\n",
              "      <td>0.001441</td>\n",
              "      <td>0.000626</td>\n",
              "      <td>0.000248</td>\n",
              "      <td>0.000107</td>\n",
              "      <td>0.011049</td>\n",
              "      <td>0.0</td>\n",
              "      <td>0.009369</td>\n",
              "      <td>0.013850</td>\n",
              "      <td>0.360414</td>\n",
              "      <td>0.0</td>\n",
              "      <td>0.171075</td>\n",
              "      <td>0.297834</td>\n",
              "      <td>1.063669e-07</td>\n",
              "      <td>1.739514e-07</td>\n",
              "      <td>0.012456</td>\n",
              "      <td>0.046197</td>\n",
              "      <td>0.130154</td>\n",
              "      <td>5.833745e-08</td>\n",
              "      <td>0.311390</td>\n",
              "      <td>0.023955</td>\n",
              "      <td>0.060487</td>\n",
              "      <td>0.130154</td>\n",
              "      <td>3.333569e-07</td>\n",
              "      <td>0.31139</td>\n",
              "      <td>0.028329</td>\n",
              "      <td>0.065847</td>\n",
              "      <td>0.132903</td>\n",
              "      <td>0.000007</td>\n",
              "      <td>0.0</td>\n",
              "      <td>0.0</td>\n",
              "      <td>0.0</td>\n",
              "      <td>0.0</td>\n",
              "      <td>0.002225</td>\n",
              "      <td>0.001084</td>\n",
              "      <td>9.366613e-08</td>\n",
              "      <td>1.605705e-07</td>\n",
              "      <td>0.0</td>\n",
              "      <td>0.015146</td>\n",
              "      <td>0.057454</td>\n",
              "      <td>0.030258</td>\n",
              "      <td>0.000916</td>\n",
              "      <td>0.0</td>\n",
              "      <td>0.0</td>\n",
              "      <td>0.0</td>\n",
              "      <td>1.0</td>\n",
              "      <td>0.0</td>\n",
              "      <td>0.0</td>\n",
              "      <td>0.0</td>\n",
              "      <td>0.0</td>\n",
              "      <td>0.0</td>\n",
              "      <td>0.059640</td>\n",
              "      <td>0.009369</td>\n",
              "      <td>0.171075</td>\n",
              "      <td>0.0</td>\n",
              "      <td>0.0</td>\n",
              "      <td>0.0</td>\n",
              "      <td>0.0</td>\n",
              "      <td>0.0</td>\n",
              "      <td>0.0</td>\n",
              "      <td>0.001441</td>\n",
              "      <td>0.000248</td>\n",
              "      <td>0.000626</td>\n",
              "      <td>0.000107</td>\n",
              "      <td>0.445572</td>\n",
              "      <td>0.003555</td>\n",
              "      <td>0.00545</td>\n",
              "      <td>0.571429</td>\n",
              "      <td>0.009147</td>\n",
              "      <td>0.010785</td>\n",
              "      <td>0.014297</td>\n",
              "      <td>0.002871</td>\n",
              "      <td>0.095267</td>\n",
              "      <td>0.050267</td>\n",
              "      <td>0.130154</td>\n",
              "      <td>0.074674</td>\n",
              "    </tr>\n",
              "    <tr>\n",
              "      <th>2</th>\n",
              "      <td>Benign</td>\n",
              "      <td>0.725028</td>\n",
              "      <td>0.352941</td>\n",
              "      <td>0.000005</td>\n",
              "      <td>0.000111</td>\n",
              "      <td>0.000000</td>\n",
              "      <td>0.000007</td>\n",
              "      <td>0.000000</td>\n",
              "      <td>0.000993</td>\n",
              "      <td>0.0</td>\n",
              "      <td>0.001936</td>\n",
              "      <td>0.002459</td>\n",
              "      <td>0.000000</td>\n",
              "      <td>0.0</td>\n",
              "      <td>0.000000</td>\n",
              "      <td>0.000000</td>\n",
              "      <td>9.076913e-05</td>\n",
              "      <td>9.208103e-04</td>\n",
              "      <td>0.000005</td>\n",
              "      <td>0.000000</td>\n",
              "      <td>0.000005</td>\n",
              "      <td>4.525320e-06</td>\n",
              "      <td>0.000005</td>\n",
              "      <td>0.000005</td>\n",
              "      <td>0.000000</td>\n",
              "      <td>0.000005</td>\n",
              "      <td>4.525320e-06</td>\n",
              "      <td>0.00000</td>\n",
              "      <td>0.000000</td>\n",
              "      <td>0.000000</td>\n",
              "      <td>0.000000</td>\n",
              "      <td>0.000000</td>\n",
              "      <td>1.0</td>\n",
              "      <td>0.0</td>\n",
              "      <td>0.0</td>\n",
              "      <td>0.0</td>\n",
              "      <td>0.000312</td>\n",
              "      <td>0.000000</td>\n",
              "      <td>9.208103e-04</td>\n",
              "      <td>0.000000e+00</td>\n",
              "      <td>0.0</td>\n",
              "      <td>0.000993</td>\n",
              "      <td>0.012824</td>\n",
              "      <td>0.003493</td>\n",
              "      <td>0.000012</td>\n",
              "      <td>0.0</td>\n",
              "      <td>1.0</td>\n",
              "      <td>0.0</td>\n",
              "      <td>0.0</td>\n",
              "      <td>1.0</td>\n",
              "      <td>0.0</td>\n",
              "      <td>0.0</td>\n",
              "      <td>0.0</td>\n",
              "      <td>0.0</td>\n",
              "      <td>0.019229</td>\n",
              "      <td>0.001936</td>\n",
              "      <td>0.000000</td>\n",
              "      <td>0.0</td>\n",
              "      <td>0.0</td>\n",
              "      <td>0.0</td>\n",
              "      <td>0.0</td>\n",
              "      <td>0.0</td>\n",
              "      <td>0.0</td>\n",
              "      <td>0.000111</td>\n",
              "      <td>0.000007</td>\n",
              "      <td>0.000000</td>\n",
              "      <td>0.000000</td>\n",
              "      <td>0.003738</td>\n",
              "      <td>0.000000</td>\n",
              "      <td>0.00000</td>\n",
              "      <td>0.571429</td>\n",
              "      <td>0.000000</td>\n",
              "      <td>0.000000</td>\n",
              "      <td>0.000000</td>\n",
              "      <td>0.000000</td>\n",
              "      <td>0.000000</td>\n",
              "      <td>0.000000</td>\n",
              "      <td>0.000000</td>\n",
              "      <td>0.000000</td>\n",
              "    </tr>\n",
              "    <tr>\n",
              "      <th>3</th>\n",
              "      <td>Benign</td>\n",
              "      <td>0.000000</td>\n",
              "      <td>0.000000</td>\n",
              "      <td>0.938673</td>\n",
              "      <td>0.000222</td>\n",
              "      <td>0.000000</td>\n",
              "      <td>0.000000</td>\n",
              "      <td>0.000000</td>\n",
              "      <td>0.000000</td>\n",
              "      <td>0.0</td>\n",
              "      <td>0.000000</td>\n",
              "      <td>0.000000</td>\n",
              "      <td>0.000000</td>\n",
              "      <td>0.0</td>\n",
              "      <td>0.000000</td>\n",
              "      <td>0.000000</td>\n",
              "      <td>0.000000e+00</td>\n",
              "      <td>6.658339e-09</td>\n",
              "      <td>0.469369</td>\n",
              "      <td>0.000004</td>\n",
              "      <td>0.469372</td>\n",
              "      <td>4.693673e-01</td>\n",
              "      <td>0.938673</td>\n",
              "      <td>0.469369</td>\n",
              "      <td>0.000004</td>\n",
              "      <td>0.469372</td>\n",
              "      <td>4.693673e-01</td>\n",
              "      <td>0.00000</td>\n",
              "      <td>0.000000</td>\n",
              "      <td>0.000000</td>\n",
              "      <td>0.000000</td>\n",
              "      <td>0.000000</td>\n",
              "      <td>0.0</td>\n",
              "      <td>0.0</td>\n",
              "      <td>0.0</td>\n",
              "      <td>0.0</td>\n",
              "      <td>0.000000</td>\n",
              "      <td>0.000000</td>\n",
              "      <td>6.658339e-09</td>\n",
              "      <td>0.000000e+00</td>\n",
              "      <td>0.0</td>\n",
              "      <td>0.000000</td>\n",
              "      <td>0.000000</td>\n",
              "      <td>0.000000</td>\n",
              "      <td>0.000000</td>\n",
              "      <td>0.0</td>\n",
              "      <td>0.0</td>\n",
              "      <td>0.0</td>\n",
              "      <td>0.0</td>\n",
              "      <td>0.0</td>\n",
              "      <td>0.0</td>\n",
              "      <td>0.0</td>\n",
              "      <td>0.0</td>\n",
              "      <td>0.0</td>\n",
              "      <td>0.000000</td>\n",
              "      <td>0.000000</td>\n",
              "      <td>0.000000</td>\n",
              "      <td>0.0</td>\n",
              "      <td>0.0</td>\n",
              "      <td>0.0</td>\n",
              "      <td>0.0</td>\n",
              "      <td>0.0</td>\n",
              "      <td>0.0</td>\n",
              "      <td>0.000222</td>\n",
              "      <td>0.000000</td>\n",
              "      <td>0.000000</td>\n",
              "      <td>0.000000</td>\n",
              "      <td>0.000000</td>\n",
              "      <td>0.000000</td>\n",
              "      <td>0.00000</td>\n",
              "      <td>0.000000</td>\n",
              "      <td>0.000000</td>\n",
              "      <td>0.000000</td>\n",
              "      <td>0.000000</td>\n",
              "      <td>0.000000</td>\n",
              "      <td>0.469369</td>\n",
              "      <td>0.000005</td>\n",
              "      <td>0.469372</td>\n",
              "      <td>0.469367</td>\n",
              "    </tr>\n",
              "    <tr>\n",
              "      <th>4</th>\n",
              "      <td>Benign</td>\n",
              "      <td>0.000000</td>\n",
              "      <td>0.000000</td>\n",
              "      <td>0.938674</td>\n",
              "      <td>0.000222</td>\n",
              "      <td>0.000000</td>\n",
              "      <td>0.000000</td>\n",
              "      <td>0.000000</td>\n",
              "      <td>0.000000</td>\n",
              "      <td>0.0</td>\n",
              "      <td>0.000000</td>\n",
              "      <td>0.000000</td>\n",
              "      <td>0.000000</td>\n",
              "      <td>0.0</td>\n",
              "      <td>0.000000</td>\n",
              "      <td>0.000000</td>\n",
              "      <td>0.000000e+00</td>\n",
              "      <td>6.658329e-09</td>\n",
              "      <td>0.469370</td>\n",
              "      <td>0.000009</td>\n",
              "      <td>0.469374</td>\n",
              "      <td>4.693659e-01</td>\n",
              "      <td>0.938675</td>\n",
              "      <td>0.469370</td>\n",
              "      <td>0.000009</td>\n",
              "      <td>0.469374</td>\n",
              "      <td>4.693659e-01</td>\n",
              "      <td>0.00000</td>\n",
              "      <td>0.000000</td>\n",
              "      <td>0.000000</td>\n",
              "      <td>0.000000</td>\n",
              "      <td>0.000000</td>\n",
              "      <td>0.0</td>\n",
              "      <td>0.0</td>\n",
              "      <td>0.0</td>\n",
              "      <td>0.0</td>\n",
              "      <td>0.000000</td>\n",
              "      <td>0.000000</td>\n",
              "      <td>6.658329e-09</td>\n",
              "      <td>0.000000e+00</td>\n",
              "      <td>0.0</td>\n",
              "      <td>0.000000</td>\n",
              "      <td>0.000000</td>\n",
              "      <td>0.000000</td>\n",
              "      <td>0.000000</td>\n",
              "      <td>0.0</td>\n",
              "      <td>0.0</td>\n",
              "      <td>0.0</td>\n",
              "      <td>0.0</td>\n",
              "      <td>0.0</td>\n",
              "      <td>0.0</td>\n",
              "      <td>0.0</td>\n",
              "      <td>0.0</td>\n",
              "      <td>0.0</td>\n",
              "      <td>0.000000</td>\n",
              "      <td>0.000000</td>\n",
              "      <td>0.000000</td>\n",
              "      <td>0.0</td>\n",
              "      <td>0.0</td>\n",
              "      <td>0.0</td>\n",
              "      <td>0.0</td>\n",
              "      <td>0.0</td>\n",
              "      <td>0.0</td>\n",
              "      <td>0.000222</td>\n",
              "      <td>0.000000</td>\n",
              "      <td>0.000000</td>\n",
              "      <td>0.000000</td>\n",
              "      <td>0.000000</td>\n",
              "      <td>0.000000</td>\n",
              "      <td>0.00000</td>\n",
              "      <td>0.000000</td>\n",
              "      <td>0.000000</td>\n",
              "      <td>0.000000</td>\n",
              "      <td>0.000000</td>\n",
              "      <td>0.000000</td>\n",
              "      <td>0.469370</td>\n",
              "      <td>0.000010</td>\n",
              "      <td>0.469374</td>\n",
              "      <td>0.469366</td>\n",
              "    </tr>\n",
              "  </tbody>\n",
              "</table>\n",
              "</div>"
            ],
            "text/plain": [
              "    Label  Dst Port  Protocol  ...  Idle Std  Idle Max  Idle Min\n",
              "0  Benign  0.000000  0.000000  ...  0.000010  0.469375  0.469367\n",
              "1  Benign  0.000336  0.352941  ...  0.050267  0.130154  0.074674\n",
              "2  Benign  0.725028  0.352941  ...  0.000000  0.000000  0.000000\n",
              "3  Benign  0.000000  0.000000  ...  0.000005  0.469372  0.469367\n",
              "4  Benign  0.000000  0.000000  ...  0.000010  0.469374  0.469366\n",
              "\n",
              "[5 rows x 79 columns]"
            ]
          },
          "metadata": {
            "tags": []
          },
          "execution_count": 15
        }
      ]
    },
    {
      "cell_type": "code",
      "metadata": {
        "id": "DPbIAfgcZt1D",
        "colab_type": "code",
        "colab": {}
      },
      "source": [
        "## Extract the appropriate features for training\n",
        "df = df[['URG Flag Cnt','SYN Flag Cnt','RST Flag Cnt','PSH Flag Cnt','Protocol', 'Pkt Size Avg','Flow Pkts/s','FIN Flag Cnt','ECE Flag Cnt','ACK Flag Cnt','Dst Port','Label']]"
      ],
      "execution_count": 16,
      "outputs": []
    },
    {
      "cell_type": "code",
      "metadata": {
        "id": "qUd8WB3K0Mev",
        "colab_type": "code",
        "colab": {
          "base_uri": "https://localhost:8080/",
          "height": 295
        },
        "outputId": "b53cda4c-67cf-4db5-e6a4-6fa473939fba"
      },
      "source": [
        "count_labels = pd.value_counts(df['Label'], sort = True)\n",
        "count_labels.plot(kind = 'bar', rot=0)\n",
        "plt.title(\"Traffic distribution\")\n",
        "plt.xlabel(\"Label\")\n",
        "plt.ylabel(\"Frequency\");"
      ],
      "execution_count": 17,
      "outputs": [
        {
          "output_type": "display_data",
          "data": {
            "image/png": "[encoded data removed]",
            "text/plain": [
              "<Figure size 432x288 with 1 Axes>"
            ]
          },
          "metadata": {
            "tags": [],
            "needs_background": "light"
          }
        }
      ]
    },
    {
      "cell_type": "code",
      "metadata": {
        "id": "-DWISle4pdyt",
        "colab_type": "code",
        "colab": {}
      },
      "source": [
        "# Encode categorical data into numeric \n",
        "label_encoder = LabelEncoder()\n",
        "label_num = label_encoder.fit_transform(df['Label'])\n",
        "df['Value'] = pd.Series(label_num)"
      ],
      "execution_count": 18,
      "outputs": []
    },
    {
      "cell_type": "code",
      "metadata": {
        "id": "-JdOo_HbqNax",
        "colab_type": "code",
        "colab": {
          "base_uri": "https://localhost:8080/",
          "height": 163
        },
        "outputId": "2463238d-28c1-4c20-9170-6f46fcbc8f36"
      },
      "source": [
        "print(df[df['Label'].str.contains(\"Benign\")][0:1])\n",
        "print(df[df['Label'].str.contains(\"GoldenEye\")][0:1])\n",
        "#print(df[df['Label'].str.contains(\"Slowloris\")][0:1])"
      ],
      "execution_count": 19,
      "outputs": [
        {
          "output_type": "stream",
          "text": [
            "   URG Flag Cnt  SYN Flag Cnt  RST Flag Cnt  ...  Dst Port   Label  Value\n",
            "0           0.0           0.0           0.0  ...       0.0  Benign      0\n",
            "\n",
            "[1 rows x 13 columns]\n",
            "    URG Flag Cnt  SYN Flag Cnt  ...                  Label  Value\n",
            "44           0.0           0.0  ...  DoS attacks-GoldenEye      1\n",
            "\n",
            "[1 rows x 13 columns]\n"
          ],
          "name": "stdout"
        }
      ]
    },
    {
      "cell_type": "code",
      "metadata": {
        "id": "YhU6xXbO0uOw",
        "colab_type": "code",
        "colab": {
          "base_uri": "https://localhost:8080/",
          "height": 54
        },
        "outputId": "5f2a0c2c-4673-4c22-f2cf-f9d28095adfc"
      },
      "source": [
        "df_normal = df[df['Label'] == 'Benign']\n",
        "df_anomaly = df[df['Label'] != 'Benign']\n",
        "print(\"Number of normal label: \" + str(df_normal.shape))\n",
        "print(\"Number of anomaly label: \" + str(df_anomaly.shape))"
      ],
      "execution_count": 20,
      "outputs": [
        {
          "output_type": "stream",
          "text": [
            "Number of normal label: (996077, 13)\n",
            "Number of anomaly label: (41508, 13)\n"
          ],
          "name": "stdout"
        }
      ]
    },
    {
      "cell_type": "code",
      "metadata": {
        "id": "wvJ0EAs22FPA",
        "colab_type": "code",
        "colab": {
          "base_uri": "https://localhost:8080/",
          "height": 288
        },
        "outputId": "a68b8a6e-fba0-43d0-ee11-22e32951dda8"
      },
      "source": [
        "df_normal.describe()"
      ],
      "execution_count": 21,
      "outputs": [
        {
          "output_type": "execute_result",
          "data": {
            "text/html": [
              "<div>\n",
              "<style scoped>\n",
              "    .dataframe tbody tr th:only-of-type {\n",
              "        vertical-align: middle;\n",
              "    }\n",
              "\n",
              "    .dataframe tbody tr th {\n",
              "        vertical-align: top;\n",
              "    }\n",
              "\n",
              "    .dataframe thead th {\n",
              "        text-align: right;\n",
              "    }\n",
              "</style>\n",
              "<table border=\"1\" class=\"dataframe\">\n",
              "  <thead>\n",
              "    <tr style=\"text-align: right;\">\n",
              "      <th></th>\n",
              "      <th>URG Flag Cnt</th>\n",
              "      <th>SYN Flag Cnt</th>\n",
              "      <th>RST Flag Cnt</th>\n",
              "      <th>PSH Flag Cnt</th>\n",
              "      <th>Protocol</th>\n",
              "      <th>Pkt Size Avg</th>\n",
              "      <th>Flow Pkts/s</th>\n",
              "      <th>FIN Flag Cnt</th>\n",
              "      <th>ECE Flag Cnt</th>\n",
              "      <th>ACK Flag Cnt</th>\n",
              "      <th>Dst Port</th>\n",
              "      <th>Value</th>\n",
              "    </tr>\n",
              "  </thead>\n",
              "  <tbody>\n",
              "    <tr>\n",
              "      <th>count</th>\n",
              "      <td>996077.000000</td>\n",
              "      <td>996077.000000</td>\n",
              "      <td>996077.000000</td>\n",
              "      <td>996077.000000</td>\n",
              "      <td>996077.000000</td>\n",
              "      <td>996077.000000</td>\n",
              "      <td>996077.000000</td>\n",
              "      <td>996077.000000</td>\n",
              "      <td>996077.000000</td>\n",
              "      <td>996077.000000</td>\n",
              "      <td>996077.000000</td>\n",
              "      <td>996077.0</td>\n",
              "    </tr>\n",
              "    <tr>\n",
              "      <th>mean</th>\n",
              "      <td>0.050188</td>\n",
              "      <td>0.050355</td>\n",
              "      <td>0.064201</td>\n",
              "      <td>0.348394</td>\n",
              "      <td>0.570818</td>\n",
              "      <td>0.027866</td>\n",
              "      <td>0.010524</td>\n",
              "      <td>0.006050</td>\n",
              "      <td>0.064199</td>\n",
              "      <td>0.282343</td>\n",
              "      <td>0.118685</td>\n",
              "      <td>0.0</td>\n",
              "    </tr>\n",
              "    <tr>\n",
              "      <th>std</th>\n",
              "      <td>0.218333</td>\n",
              "      <td>0.218676</td>\n",
              "      <td>0.245111</td>\n",
              "      <td>0.476462</td>\n",
              "      <td>0.316365</td>\n",
              "      <td>0.037336</td>\n",
              "      <td>0.066099</td>\n",
              "      <td>0.077544</td>\n",
              "      <td>0.245107</td>\n",
              "      <td>0.450139</td>\n",
              "      <td>0.273329</td>\n",
              "      <td>0.0</td>\n",
              "    </tr>\n",
              "    <tr>\n",
              "      <th>min</th>\n",
              "      <td>0.000000</td>\n",
              "      <td>0.000000</td>\n",
              "      <td>0.000000</td>\n",
              "      <td>0.000000</td>\n",
              "      <td>0.000000</td>\n",
              "      <td>0.000000</td>\n",
              "      <td>0.000000</td>\n",
              "      <td>0.000000</td>\n",
              "      <td>0.000000</td>\n",
              "      <td>0.000000</td>\n",
              "      <td>0.000000</td>\n",
              "      <td>0.0</td>\n",
              "    </tr>\n",
              "    <tr>\n",
              "      <th>25%</th>\n",
              "      <td>0.000000</td>\n",
              "      <td>0.000000</td>\n",
              "      <td>0.000000</td>\n",
              "      <td>0.000000</td>\n",
              "      <td>0.352941</td>\n",
              "      <td>0.000000</td>\n",
              "      <td>0.000001</td>\n",
              "      <td>0.000000</td>\n",
              "      <td>0.000000</td>\n",
              "      <td>0.000000</td>\n",
              "      <td>0.000809</td>\n",
              "      <td>0.0</td>\n",
              "    </tr>\n",
              "    <tr>\n",
              "      <th>50%</th>\n",
              "      <td>0.000000</td>\n",
              "      <td>0.000000</td>\n",
              "      <td>0.000000</td>\n",
              "      <td>0.000000</td>\n",
              "      <td>0.352941</td>\n",
              "      <td>0.021660</td>\n",
              "      <td>0.000029</td>\n",
              "      <td>0.000000</td>\n",
              "      <td>0.000000</td>\n",
              "      <td>0.000000</td>\n",
              "      <td>0.001221</td>\n",
              "      <td>0.0</td>\n",
              "    </tr>\n",
              "    <tr>\n",
              "      <th>75%</th>\n",
              "      <td>0.000000</td>\n",
              "      <td>0.000000</td>\n",
              "      <td>0.000000</td>\n",
              "      <td>1.000000</td>\n",
              "      <td>1.000000</td>\n",
              "      <td>0.033501</td>\n",
              "      <td>0.001639</td>\n",
              "      <td>0.000000</td>\n",
              "      <td>0.000000</td>\n",
              "      <td>1.000000</td>\n",
              "      <td>0.006790</td>\n",
              "      <td>0.0</td>\n",
              "    </tr>\n",
              "    <tr>\n",
              "      <th>max</th>\n",
              "      <td>1.000000</td>\n",
              "      <td>1.000000</td>\n",
              "      <td>1.000000</td>\n",
              "      <td>1.000000</td>\n",
              "      <td>1.000000</td>\n",
              "      <td>1.000000</td>\n",
              "      <td>1.000000</td>\n",
              "      <td>1.000000</td>\n",
              "      <td>1.000000</td>\n",
              "      <td>1.000000</td>\n",
              "      <td>1.000000</td>\n",
              "      <td>0.0</td>\n",
              "    </tr>\n",
              "  </tbody>\n",
              "</table>\n",
              "</div>"
            ],
            "text/plain": [
              "        URG Flag Cnt   SYN Flag Cnt  ...       Dst Port     Value\n",
              "count  996077.000000  996077.000000  ...  996077.000000  996077.0\n",
              "mean        0.050188       0.050355  ...       0.118685       0.0\n",
              "std         0.218333       0.218676  ...       0.273329       0.0\n",
              "min         0.000000       0.000000  ...       0.000000       0.0\n",
              "25%         0.000000       0.000000  ...       0.000809       0.0\n",
              "50%         0.000000       0.000000  ...       0.001221       0.0\n",
              "75%         0.000000       0.000000  ...       0.006790       0.0\n",
              "max         1.000000       1.000000  ...       1.000000       0.0\n",
              "\n",
              "[8 rows x 12 columns]"
            ]
          },
          "metadata": {
            "tags": []
          },
          "execution_count": 21
        }
      ]
    },
    {
      "cell_type": "code",
      "metadata": {
        "id": "vA8T7PeY2dyR",
        "colab_type": "code",
        "colab": {
          "base_uri": "https://localhost:8080/",
          "height": 288
        },
        "outputId": "b0926e0d-523d-4f16-e7c5-055ac71e2883"
      },
      "source": [
        "df_anomaly.describe()"
      ],
      "execution_count": 22,
      "outputs": [
        {
          "output_type": "execute_result",
          "data": {
            "text/html": [
              "<div>\n",
              "<style scoped>\n",
              "    .dataframe tbody tr th:only-of-type {\n",
              "        vertical-align: middle;\n",
              "    }\n",
              "\n",
              "    .dataframe tbody tr th {\n",
              "        vertical-align: top;\n",
              "    }\n",
              "\n",
              "    .dataframe thead th {\n",
              "        text-align: right;\n",
              "    }\n",
              "</style>\n",
              "<table border=\"1\" class=\"dataframe\">\n",
              "  <thead>\n",
              "    <tr style=\"text-align: right;\">\n",
              "      <th></th>\n",
              "      <th>URG Flag Cnt</th>\n",
              "      <th>SYN Flag Cnt</th>\n",
              "      <th>RST Flag Cnt</th>\n",
              "      <th>PSH Flag Cnt</th>\n",
              "      <th>Protocol</th>\n",
              "      <th>Pkt Size Avg</th>\n",
              "      <th>Flow Pkts/s</th>\n",
              "      <th>FIN Flag Cnt</th>\n",
              "      <th>ECE Flag Cnt</th>\n",
              "      <th>ACK Flag Cnt</th>\n",
              "      <th>Dst Port</th>\n",
              "      <th>Value</th>\n",
              "    </tr>\n",
              "  </thead>\n",
              "  <tbody>\n",
              "    <tr>\n",
              "      <th>count</th>\n",
              "      <td>41508.0</td>\n",
              "      <td>41508.000000</td>\n",
              "      <td>41508.0</td>\n",
              "      <td>41508.000000</td>\n",
              "      <td>4.150800e+04</td>\n",
              "      <td>41508.000000</td>\n",
              "      <td>4.150800e+04</td>\n",
              "      <td>41508.000000</td>\n",
              "      <td>41508.0</td>\n",
              "      <td>41508.000000</td>\n",
              "      <td>4.150800e+04</td>\n",
              "      <td>41508.0</td>\n",
              "    </tr>\n",
              "    <tr>\n",
              "      <th>mean</th>\n",
              "      <td>0.0</td>\n",
              "      <td>0.000024</td>\n",
              "      <td>0.0</td>\n",
              "      <td>0.647104</td>\n",
              "      <td>3.529412e-01</td>\n",
              "      <td>0.033158</td>\n",
              "      <td>2.182184e-06</td>\n",
              "      <td>0.000024</td>\n",
              "      <td>0.0</td>\n",
              "      <td>0.352896</td>\n",
              "      <td>1.220740e-03</td>\n",
              "      <td>1.0</td>\n",
              "    </tr>\n",
              "    <tr>\n",
              "      <th>std</th>\n",
              "      <td>0.0</td>\n",
              "      <td>0.004908</td>\n",
              "      <td>0.0</td>\n",
              "      <td>0.477876</td>\n",
              "      <td>2.180504e-13</td>\n",
              "      <td>0.024509</td>\n",
              "      <td>1.171016e-04</td>\n",
              "      <td>0.004908</td>\n",
              "      <td>0.0</td>\n",
              "      <td>0.477876</td>\n",
              "      <td>3.426120e-17</td>\n",
              "      <td>0.0</td>\n",
              "    </tr>\n",
              "    <tr>\n",
              "      <th>min</th>\n",
              "      <td>0.0</td>\n",
              "      <td>0.000000</td>\n",
              "      <td>0.0</td>\n",
              "      <td>0.000000</td>\n",
              "      <td>3.529412e-01</td>\n",
              "      <td>0.000000</td>\n",
              "      <td>5.811448e-09</td>\n",
              "      <td>0.000000</td>\n",
              "      <td>0.0</td>\n",
              "      <td>0.000000</td>\n",
              "      <td>1.220740e-03</td>\n",
              "      <td>1.0</td>\n",
              "    </tr>\n",
              "    <tr>\n",
              "      <th>25%</th>\n",
              "      <td>0.0</td>\n",
              "      <td>0.000000</td>\n",
              "      <td>0.0</td>\n",
              "      <td>0.000000</td>\n",
              "      <td>3.529412e-01</td>\n",
              "      <td>0.000000</td>\n",
              "      <td>1.674126e-07</td>\n",
              "      <td>0.000000</td>\n",
              "      <td>0.0</td>\n",
              "      <td>0.000000</td>\n",
              "      <td>1.220740e-03</td>\n",
              "      <td>1.0</td>\n",
              "    </tr>\n",
              "    <tr>\n",
              "      <th>50%</th>\n",
              "      <td>0.0</td>\n",
              "      <td>0.000000</td>\n",
              "      <td>0.0</td>\n",
              "      <td>1.000000</td>\n",
              "      <td>3.529412e-01</td>\n",
              "      <td>0.043866</td>\n",
              "      <td>2.599179e-07</td>\n",
              "      <td>0.000000</td>\n",
              "      <td>0.0</td>\n",
              "      <td>0.000000</td>\n",
              "      <td>1.220740e-03</td>\n",
              "      <td>1.0</td>\n",
              "    </tr>\n",
              "    <tr>\n",
              "      <th>75%</th>\n",
              "      <td>0.0</td>\n",
              "      <td>0.000000</td>\n",
              "      <td>0.0</td>\n",
              "      <td>1.000000</td>\n",
              "      <td>3.529412e-01</td>\n",
              "      <td>0.051603</td>\n",
              "      <td>3.979609e-07</td>\n",
              "      <td>0.000000</td>\n",
              "      <td>0.0</td>\n",
              "      <td>1.000000</td>\n",
              "      <td>1.220740e-03</td>\n",
              "      <td>1.0</td>\n",
              "    </tr>\n",
              "    <tr>\n",
              "      <th>max</th>\n",
              "      <td>0.0</td>\n",
              "      <td>1.000000</td>\n",
              "      <td>0.0</td>\n",
              "      <td>1.000000</td>\n",
              "      <td>3.529412e-01</td>\n",
              "      <td>0.140913</td>\n",
              "      <td>2.380952e-02</td>\n",
              "      <td>1.000000</td>\n",
              "      <td>0.0</td>\n",
              "      <td>1.000000</td>\n",
              "      <td>1.220740e-03</td>\n",
              "      <td>1.0</td>\n",
              "    </tr>\n",
              "  </tbody>\n",
              "</table>\n",
              "</div>"
            ],
            "text/plain": [
              "       URG Flag Cnt  SYN Flag Cnt  ...      Dst Port    Value\n",
              "count       41508.0  41508.000000  ...  4.150800e+04  41508.0\n",
              "mean            0.0      0.000024  ...  1.220740e-03      1.0\n",
              "std             0.0      0.004908  ...  3.426120e-17      0.0\n",
              "min             0.0      0.000000  ...  1.220740e-03      1.0\n",
              "25%             0.0      0.000000  ...  1.220740e-03      1.0\n",
              "50%             0.0      0.000000  ...  1.220740e-03      1.0\n",
              "75%             0.0      0.000000  ...  1.220740e-03      1.0\n",
              "max             0.0      1.000000  ...  1.220740e-03      1.0\n",
              "\n",
              "[8 rows x 12 columns]"
            ]
          },
          "metadata": {
            "tags": []
          },
          "execution_count": 22
        }
      ]
    },
    {
      "cell_type": "code",
      "metadata": {
        "id": "vB6S-3CW2gWL",
        "colab_type": "code",
        "colab": {}
      },
      "source": [
        "# Split Data into Train and Test\n",
        "#data = df.drop(['Timestamp'], axis=1) #Some of the csv contains Timestamp field\n",
        "data = df\n",
        "# random state ensure that the train test split are deterministic\n",
        "X_train, X_test = train_test_split(data, test_size=0.2, random_state=42)\n",
        "\n",
        "## Again Split Train data set into Train and Validation set. With 80% training and 20% validation\n",
        "X_train, X_val, y_train, y_val = train_test_split(X_train, X_train, test_size = 0.2, random_state = 12345)\n",
        "\n",
        "# Train the data with only benign data\n",
        "X_train = X_train[X_train['Label'] == 'Benign']\n",
        "y_train = X_train['Value']\n",
        "X_train = X_train.drop(['Label', 'Value'], axis=1)\n",
        "X_train = X_train.values\n",
        "y_val = y_train.values\n",
        "\n",
        "# Validation data with benign n malicious data\n",
        "y_val = X_val['Value']\n",
        "X_val = X_val.drop(['Label', 'Value'], axis=1)\n",
        "X_val = X_val.values\n",
        "y_val = y_val.values\n",
        "\n",
        "# Testing set\n",
        "y_test = X_test['Value']\n",
        "X_test = X_test.drop(['Label', 'Value'], axis=1)\n",
        "X_test = X_test.values\n",
        "y_test = y_test.values"
      ],
      "execution_count": 23,
      "outputs": []
    },
    {
      "cell_type": "code",
      "metadata": {
        "id": "75qWCXHdpL6b",
        "colab_type": "code",
        "colab": {
          "base_uri": "https://localhost:8080/",
          "height": 181
        },
        "outputId": "5c11f202-4003-4475-d4f0-258b10fb67a5"
      },
      "source": [
        "print(\"Train dataset\")\n",
        "print(X_train.shape)\n",
        "print(y_train.shape)\n",
        "\n",
        "print(\"Val dataset\")\n",
        "print(X_val.shape)\n",
        "print(y_val.shape)\n",
        "\n",
        "print(\"Test dataset\")\n",
        "print(X_test.shape)\n",
        "print(y_test.shape)"
      ],
      "execution_count": 24,
      "outputs": [
        {
          "output_type": "stream",
          "text": [
            "Train dataset\n",
            "(637597, 11)\n",
            "(637597,)\n",
            "Val dataset\n",
            "(166014, 11)\n",
            "(166014,)\n",
            "Test dataset\n",
            "(207517, 11)\n",
            "(207517,)\n"
          ],
          "name": "stdout"
        }
      ]
    },
    {
      "cell_type": "code",
      "metadata": {
        "id": "MVn-2oTI4eop",
        "colab_type": "code",
        "colab": {}
      },
      "source": [
        "input_dim = X_train.shape[1] # No. of features\n",
        "encoding_dim = 16\n",
        "nb_epoch = 10\n",
        "batch_size = 128\n",
        "input_dim = X_train.shape[1] #num of columns, 30\n",
        "encoding_dim = 14\n",
        "hidden_dim = int(encoding_dim / 2) #i.e. 7\n",
        "learning_rate = 1e-7\n",
        "\n",
        "input_layer = Input(shape=(input_dim, ))\n",
        "encoder = Dense(encoding_dim, activation=\"tanh\", activity_regularizer=regularizers.l1(learning_rate))(input_layer)\n",
        "encoder = Dense(hidden_dim, activation=\"relu\")(encoder)\n",
        "decoder = Dense(hidden_dim, activation='tanh')(encoder)\n",
        "decoder = Dense(input_dim, activation='relu')(decoder)\n",
        "autoencoder = Model(inputs=input_layer, outputs=decoder)"
      ],
      "execution_count": 25,
      "outputs": []
    },
    {
      "cell_type": "markdown",
      "metadata": {
        "id": "cXTLUqjAjU7S",
        "colab_type": "text"
      },
      "source": [
        "1. Autoencoder is an unsupervised machine learning algorithm.\n",
        "\n",
        "2. Autoencoders are similar to dimensionality reduction techniques like Principal Component Analysis (PCA).\n",
        "\n",
        "3. Autoencoders project data from a higher dimension to a lower dimension using linear transformation and try to preserve the important features of the data while removing the non-essential parts.\n",
        "\n",
        "4. Autoencoder can be broken in to three parts. Encoder, Bottleneck and Decoder.\n",
        "\n",
        "> Encoder: In which the model learns how to reduce the input dimensions and compress the input data into an encoded representation.\n",
        "\n",
        "> Bottleneck: which is the layer that contains the compressed representation of the input data. This is the lowest possible dimensions of the input data\n",
        "\n",
        "> Decoder: In which the model learns how to reconstruct the data from the encoded representation to be as close to the original input as possible.\n",
        "\n",
        "5. Reconstruction Loss: This is the method that measures measure how well the decoder is performing and how close the output is to the original input.\n",
        "The training then involves using back propagation in order to minimize the network’s reconstruction loss.\n",
        "\n",
        "> Aim of an autoencoder is to learn a representation (encoding) for a set of data, by training the network to ignore signal “noise”.\n",
        "\n",
        "\n",
        "\n",
        "\n",
        "\n",
        "\n"
      ]
    },
    {
      "cell_type": "code",
      "metadata": {
        "id": "Wrm_FbZ84iQK",
        "colab_type": "code",
        "colab": {
          "base_uri": "https://localhost:8080/",
          "height": 399
        },
        "outputId": "02dc4ee2-6f14-454f-8f86-72a5aa0f471d"
      },
      "source": [
        "autoencoder.compile(optimizer='adam', \n",
        "                    loss='mean_squared_error')\n",
        "                    #,metrics=['accuracy']) #unsupervised method does not have accuracy.\n",
        "\n",
        "# Save the best performance model\n",
        "checkpointer = ModelCheckpoint(filepath=\"model.h5\",\n",
        "                               verbose=0,\n",
        "                               save_best_only=True)\n",
        "\n",
        "\n",
        "history = autoencoder.fit(X_train, X_train,\n",
        "                    epochs=nb_epoch,\n",
        "                    batch_size=batch_size,\n",
        "                    shuffle=True,\n",
        "                    validation_data=(X_val, X_val),\n",
        "                    verbose=1,\n",
        "                    callbacks=[checkpointer]).history"
      ],
      "execution_count": 26,
      "outputs": [
        {
          "output_type": "stream",
          "text": [
            "Train on 637597 samples, validate on 166014 samples\n",
            "Epoch 1/10\n",
            "637597/637597 [==============================] - 24s 38us/step - loss: 0.0135 - val_loss: 0.0109\n",
            "Epoch 2/10\n",
            "637597/637597 [==============================] - 22s 35us/step - loss: 0.0112 - val_loss: 0.0107\n",
            "Epoch 3/10\n",
            "637597/637597 [==============================] - 22s 35us/step - loss: 0.0111 - val_loss: 0.0107\n",
            "Epoch 4/10\n",
            "637597/637597 [==============================] - 22s 35us/step - loss: 0.0111 - val_loss: 0.0107\n",
            "Epoch 5/10\n",
            "637597/637597 [==============================] - 22s 34us/step - loss: 0.0111 - val_loss: 0.0107\n",
            "Epoch 6/10\n",
            "637597/637597 [==============================] - 22s 34us/step - loss: 0.0111 - val_loss: 0.0107\n",
            "Epoch 7/10\n",
            "637597/637597 [==============================] - 22s 34us/step - loss: 0.0111 - val_loss: 0.0107\n",
            "Epoch 8/10\n",
            "637597/637597 [==============================] - 22s 34us/step - loss: 0.0110 - val_loss: 0.0105\n",
            "Epoch 9/10\n",
            "637597/637597 [==============================] - 22s 34us/step - loss: 0.0109 - val_loss: 0.0105\n",
            "Epoch 10/10\n",
            "637597/637597 [==============================] - 22s 34us/step - loss: 0.0109 - val_loss: 0.0105\n"
          ],
          "name": "stdout"
        }
      ]
    },
    {
      "cell_type": "code",
      "metadata": {
        "id": "sUUtam7vxWY6",
        "colab_type": "code",
        "colab": {}
      },
      "source": [
        "autoencoder = load_model('model.h5')"
      ],
      "execution_count": 27,
      "outputs": []
    },
    {
      "cell_type": "code",
      "metadata": {
        "id": "9m8mU1TVMnIy",
        "colab_type": "code",
        "colab": {
          "base_uri": "https://localhost:8080/",
          "height": 440
        },
        "outputId": "a96a4c04-2e33-47c7-820f-6ada32a63f8a"
      },
      "source": [
        "plt.plot(history['loss'])\n",
        "plt.plot(history['val_loss'])\n",
        "plt.title('model loss')\n",
        "plt.ylabel('loss')\n",
        "plt.xlabel('epoch')\n",
        "plt.legend(['train', 'test'], loc='upper right');\n",
        "print(\"A loss function is used to optimize a machine learning algorithm. The loss is calculated on training and validation and its interpretation is based\")\n",
        "print(\"on how well the model is doing in these two sets. It is the sum of errors made for each example in training or validation sets.\")\n",
        "print(\"Loss value implies how poorly or well a model behaves after each iteration of optimization.\")\n",
        "print(\"From the diagram, we can see that the loss, stabilises after each epoch.\")\n",
        "\n",
        "print(\"\\n\\nIf your training loss is much lower than validation loss then this means the network might be overfitting. Sol: Increase dropout.\")\n",
        "print(\"Dropout has the effect of making the training process noisy, forcing nodes within a layer to probabilistically take on more or less responsibility for the inputs\")"
      ],
      "execution_count": 28,
      "outputs": [
        {
          "output_type": "stream",
          "text": [
            "A loss function is used to optimize a machine learning algorithm. The loss is calculated on training and validation and its interpretation is based\n",
            "on how well the model is doing in these two sets. It is the sum of errors made for each example in training or validation sets.\n",
            "Loss value implies how poorly or well a model behaves after each iteration of optimization.\n",
            "From the diagram, we can see that the loss, stabilises after each epoch.\n",
            "\n",
            "\n",
            "If your training loss is much lower than validation loss then this means the network might be overfitting. Sol: Increase dropout.\n",
            "Dropout has the effect of making the training process noisy, forcing nodes within a layer to probabilistically take on more or less responsibility for the inputs\n"
          ],
          "name": "stdout"
        },
        {
          "output_type": "display_data",
          "data": {
            "image/png": "[encoded data removed]",
            "text/plain": [
              "<Figure size 432x288 with 1 Axes>"
            ]
          },
          "metadata": {
            "tags": [],
            "needs_background": "light"
          }
        }
      ]
    },
    {
      "cell_type": "code",
      "metadata": {
        "id": "4CMMPO_gUTnd",
        "colab_type": "code",
        "colab": {
          "base_uri": "https://localhost:8080/",
          "height": 720
        },
        "outputId": "2521d1a5-2b39-4524-ad45-c377323275a4"
      },
      "source": [
        "from IPython.display import Image\n",
        "from IPython.core.display import HTML\n",
        "print(\"Example of MSE\\nPurple dots are the points on the graph. X and Y coordinate.\")\n",
        "print(\"Blue line is our prediction line.\")\n",
        "print(\"Red line between each purple point and the prediction line are the errors.\")\n",
        "print(\"The ideal MSE isn't 0, since then you would have a model that perfectly predicts your training data, but which is very unlikely to perfectly predict any other data.\")\n",
        "print(\"There are no acceptable limits for MSE except that the lower the MSE the higher the accuracy of prediction as there would be excellent match between the actual and predicted data set.\")\n",
        "print(\"So, if the standard deviation is 0.5, it basically means that on average the difference between mean and data points is 0.5.\")\n",
        "Image(url= \"https://cdn-media-1.freecodecamp.org/images/MNskFmGPKuQfMLdmpkT-X7-8w2cJXulP3683\")\n"
      ],
      "execution_count": 29,
      "outputs": [
        {
          "output_type": "stream",
          "text": [
            "Example of MSE\n",
            "Purple dots are the points on the graph. X and Y coordinate.\n",
            "Blue line is our prediction line.\n",
            "Red line between each purple point and the prediction line are the errors.\n",
            "The ideal MSE isn't 0, since then you would have a model that perfectly predicts your training data, but which is very unlikely to perfectly predict any other data.\n",
            "There are no acceptable limits for MSE except that the lower the MSE the higher the accuracy of prediction as there would be excellent match between the actual and predicted data set.\n",
            "So, if the standard deviation is 0.5, it basically means that on average the difference between mean and data points is 0.5.\n"
          ],
          "name": "stdout"
        },
        {
          "output_type": "execute_result",
          "data": {
            "text/html": [
              "<img src=\"https://cdn-media-1.freecodecamp.org/images/MNskFmGPKuQfMLdmpkT-X7-8w2cJXulP3683\"/>"
            ],
            "text/plain": [
              "<IPython.core.display.Image object>"
            ]
          },
          "metadata": {
            "tags": []
          },
          "execution_count": 29
        }
      ]
    },
    {
      "cell_type": "code",
      "metadata": {
        "id": "9h0cEBW-pIIa",
        "colab_type": "code",
        "colab": {
          "base_uri": "https://localhost:8080/",
          "height": 288
        },
        "outputId": "8664d3c8-cee3-4b76-ad5e-b9c5316a72c1"
      },
      "source": [
        "# Predict test dataset\n",
        "predictions = autoencoder.predict(X_test)\n",
        "# Mean Square Error - measures the average of the squares of the errors\n",
        "mse = np.mean(np.power(X_test - predictions, 2), axis=1)\n",
        "reconstruction_error = pd.DataFrame({'reconstruction_error': mse,'true_class': y_test})\n",
        "reconstruction_error.describe()"
      ],
      "execution_count": 30,
      "outputs": [
        {
          "output_type": "execute_result",
          "data": {
            "text/html": [
              "<div>\n",
              "<style scoped>\n",
              "    .dataframe tbody tr th:only-of-type {\n",
              "        vertical-align: middle;\n",
              "    }\n",
              "\n",
              "    .dataframe tbody tr th {\n",
              "        vertical-align: top;\n",
              "    }\n",
              "\n",
              "    .dataframe thead th {\n",
              "        text-align: right;\n",
              "    }\n",
              "</style>\n",
              "<table border=\"1\" class=\"dataframe\">\n",
              "  <thead>\n",
              "    <tr style=\"text-align: right;\">\n",
              "      <th></th>\n",
              "      <th>reconstruction_error</th>\n",
              "      <th>true_class</th>\n",
              "    </tr>\n",
              "  </thead>\n",
              "  <tbody>\n",
              "    <tr>\n",
              "      <th>count</th>\n",
              "      <td>2.075170e+05</td>\n",
              "      <td>207517.000000</td>\n",
              "    </tr>\n",
              "    <tr>\n",
              "      <th>mean</th>\n",
              "      <td>1.039787e-02</td>\n",
              "      <td>0.040377</td>\n",
              "    </tr>\n",
              "    <tr>\n",
              "      <th>std</th>\n",
              "      <td>2.891522e-02</td>\n",
              "      <td>0.196843</td>\n",
              "    </tr>\n",
              "    <tr>\n",
              "      <th>min</th>\n",
              "      <td>2.138032e-09</td>\n",
              "      <td>0.000000</td>\n",
              "    </tr>\n",
              "    <tr>\n",
              "      <th>25%</th>\n",
              "      <td>4.246261e-07</td>\n",
              "      <td>0.000000</td>\n",
              "    </tr>\n",
              "    <tr>\n",
              "      <th>50%</th>\n",
              "      <td>1.311027e-06</td>\n",
              "      <td>0.000000</td>\n",
              "    </tr>\n",
              "    <tr>\n",
              "      <th>75%</th>\n",
              "      <td>5.478667e-06</td>\n",
              "      <td>0.000000</td>\n",
              "    </tr>\n",
              "    <tr>\n",
              "      <th>max</th>\n",
              "      <td>9.296475e-02</td>\n",
              "      <td>1.000000</td>\n",
              "    </tr>\n",
              "  </tbody>\n",
              "</table>\n",
              "</div>"
            ],
            "text/plain": [
              "       reconstruction_error     true_class\n",
              "count          2.075170e+05  207517.000000\n",
              "mean           1.039787e-02       0.040377\n",
              "std            2.891522e-02       0.196843\n",
              "min            2.138032e-09       0.000000\n",
              "25%            4.246261e-07       0.000000\n",
              "50%            1.311027e-06       0.000000\n",
              "75%            5.478667e-06       0.000000\n",
              "max            9.296475e-02       1.000000"
            ]
          },
          "metadata": {
            "tags": []
          },
          "execution_count": 30
        }
      ]
    },
    {
      "cell_type": "code",
      "metadata": {
        "id": "rDashNdkWwf7",
        "colab_type": "code",
        "colab": {
          "base_uri": "https://localhost:8080/",
          "height": 648
        },
        "outputId": "8bf04bb4-dacc-4bb2-8f82-ff7f7a9ad568"
      },
      "source": [
        "print(\"The standard deviation (SD) measures the amount of variability, or dispersion, from the individual data values to the mean.\")\n",
        "print(\"From the output result above: count,min,25%,50%,75% and max are from the data.\")\n",
        "print(\"A smaller standard deviation indicates that more of the data is clustered about the mean while A larger one indicates the data are more spread out.\")\n",
        "print(\"Data might not be a normal distribution graph. The below image is just an illustration\")\n",
        "Image(url= \"https://www.students4bestevidence.net/app/uploads/2018/09/Image-1-Standard-deviation-Standard-error--768x555.jpg\")"
      ],
      "execution_count": 31,
      "outputs": [
        {
          "output_type": "stream",
          "text": [
            "The standard deviation (SD) measures the amount of variability, or dispersion, from the individual data values to the mean.\n",
            "From the output result above: count,min,25%,50%,75% and max are from the data.\n",
            "A smaller standard deviation indicates that more of the data is clustered about the mean while A larger one indicates the data are more spread out.\n",
            "Data might not be a normal distribution graph. The below image is just an illustration\n"
          ],
          "name": "stdout"
        },
        {
          "output_type": "execute_result",
          "data": {
            "text/html": [
              "<img src=\"https://www.students4bestevidence.net/app/uploads/2018/09/Image-1-Standard-deviation-Standard-error--768x555.jpg\"/>"
            ],
            "text/plain": [
              "<IPython.core.display.Image object>"
            ]
          },
          "metadata": {
            "tags": []
          },
          "execution_count": 31
        }
      ]
    },
    {
      "cell_type": "code",
      "metadata": {
        "id": "tbZRIQ0IT0O7",
        "colab_type": "code",
        "colab": {
          "base_uri": "https://localhost:8080/",
          "height": 216
        },
        "outputId": "391fe664-3f8b-469e-bde8-44cac6dc6c07"
      },
      "source": [
        "print(\"Reconstruction error is shown in this matrix of differences between original sample values and reconstructed sample values.\")\n",
        "reconstruction_error.head()"
      ],
      "execution_count": 32,
      "outputs": [
        {
          "output_type": "stream",
          "text": [
            "Reconstruction error is shown in this matrix of differences between original sample values and reconstructed sample values.\n"
          ],
          "name": "stdout"
        },
        {
          "output_type": "execute_result",
          "data": {
            "text/html": [
              "<div>\n",
              "<style scoped>\n",
              "    .dataframe tbody tr th:only-of-type {\n",
              "        vertical-align: middle;\n",
              "    }\n",
              "\n",
              "    .dataframe tbody tr th {\n",
              "        vertical-align: top;\n",
              "    }\n",
              "\n",
              "    .dataframe thead th {\n",
              "        text-align: right;\n",
              "    }\n",
              "</style>\n",
              "<table border=\"1\" class=\"dataframe\">\n",
              "  <thead>\n",
              "    <tr style=\"text-align: right;\">\n",
              "      <th></th>\n",
              "      <th>reconstruction_error</th>\n",
              "      <th>true_class</th>\n",
              "    </tr>\n",
              "  </thead>\n",
              "  <tbody>\n",
              "    <tr>\n",
              "      <th>0</th>\n",
              "      <td>2.055868e-07</td>\n",
              "      <td>0</td>\n",
              "    </tr>\n",
              "    <tr>\n",
              "      <th>1</th>\n",
              "      <td>2.050983e-07</td>\n",
              "      <td>0</td>\n",
              "    </tr>\n",
              "    <tr>\n",
              "      <th>2</th>\n",
              "      <td>3.367915e-06</td>\n",
              "      <td>0</td>\n",
              "    </tr>\n",
              "    <tr>\n",
              "      <th>3</th>\n",
              "      <td>9.091201e-02</td>\n",
              "      <td>0</td>\n",
              "    </tr>\n",
              "    <tr>\n",
              "      <th>4</th>\n",
              "      <td>7.876770e-07</td>\n",
              "      <td>0</td>\n",
              "    </tr>\n",
              "  </tbody>\n",
              "</table>\n",
              "</div>"
            ],
            "text/plain": [
              "   reconstruction_error  true_class\n",
              "0          2.055868e-07           0\n",
              "1          2.050983e-07           0\n",
              "2          3.367915e-06           0\n",
              "3          9.091201e-02           0\n",
              "4          7.876770e-07           0"
            ]
          },
          "metadata": {
            "tags": []
          },
          "execution_count": 32
        }
      ]
    },
    {
      "cell_type": "code",
      "metadata": {
        "id": "giBAZCoMWD3j",
        "colab_type": "code",
        "colab": {
          "base_uri": "https://localhost:8080/",
          "height": 337
        },
        "outputId": "b82680cc-30be-4ed5-b8ce-494945b6297f"
      },
      "source": [
        "print(\"A histogram displays numerical data by grouping data into bins of equal width.\")\n",
        "print(\"Each bin is plotted as a bar whose height corresponds to how many data points are in that bin. Bins are also sometimes called intervals, classes, or buckets.\")\n",
        "Image(url=\"https://statistics.laerd.com/statistical-guides/img/uh/laerd-statistics-example-histograms-showing-different-bin-sizes.png\")"
      ],
      "execution_count": 33,
      "outputs": [
        {
          "output_type": "stream",
          "text": [
            "A histogram displays numerical data by grouping data into bins of equal width.\n",
            "Each bin is plotted as a bar whose height corresponds to how many data points are in that bin. Bins are also sometimes called intervals, classes, or buckets.\n"
          ],
          "name": "stdout"
        },
        {
          "output_type": "execute_result",
          "data": {
            "text/html": [
              "<img src=\"https://statistics.laerd.com/statistical-guides/img/uh/laerd-statistics-example-histograms-showing-different-bin-sizes.png\"/>"
            ],
            "text/plain": [
              "<IPython.core.display.Image object>"
            ]
          },
          "metadata": {
            "tags": []
          },
          "execution_count": 33
        }
      ]
    },
    {
      "cell_type": "code",
      "metadata": {
        "id": "sEZgULlAt-vf",
        "colab_type": "code",
        "colab": {
          "base_uri": "https://localhost:8080/",
          "height": 294
        },
        "outputId": "c089df83-ba22-4a02-9133-ff5ff4e8e79a"
      },
      "source": [
        "fig = plt.figure()\n",
        "fig.suptitle('Reconstruction error for benign dataset', fontsize=20)\n",
        "ax = fig.add_subplot(111)\n",
        "normal_error_df = reconstruction_error[reconstruction_error['true_class'] == 0]\n",
        "remove = ax.hist(normal_error_df.reconstruction_error.values, bins=20)"
      ],
      "execution_count": 34,
      "outputs": [
        {
          "output_type": "display_data",
          "data": {
            "image/png": "[encoded data removed]",
            "text/plain": [
              "<Figure size 432x288 with 1 Axes>"
            ]
          },
          "metadata": {
            "tags": [],
            "needs_background": "light"
          }
        }
      ]
    },
    {
      "cell_type": "code",
      "metadata": {
        "id": "jYIi9jdIuA3H",
        "colab_type": "code",
        "colab": {
          "base_uri": "https://localhost:8080/",
          "height": 294
        },
        "outputId": "dfe85289-fb36-4f02-db38-6e6f20564613"
      },
      "source": [
        "fig = plt.figure()\n",
        "fig.suptitle('Reconstruction error for malicious dataset', fontsize=20)\n",
        "ax = fig.add_subplot(111)\n",
        "fraud_error_df = reconstruction_error[reconstruction_error['true_class'] == 1]\n",
        "remove = ax.hist(fraud_error_df.reconstruction_error.values, bins=20)"
      ],
      "execution_count": 35,
      "outputs": [
        {
          "output_type": "display_data",
          "data": {
            "image/png": "[encoded data removed]",
            "text/plain": [
              "<Figure size 432x288 with 1 Axes>"
            ]
          },
          "metadata": {
            "tags": [],
            "needs_background": "light"
          }
        }
      ]
    },
    {
      "cell_type": "code",
      "metadata": {
        "id": "tHRfHSplX9Io",
        "colab_type": "code",
        "colab": {
          "base_uri": "https://localhost:8080/",
          "height": 295
        },
        "outputId": "45295218-84a6-45e7-e343-0c29a32c46cc"
      },
      "source": [
        "from sklearn.metrics import (confusion_matrix, precision_recall_curve, auc,\n",
        "                             roc_curve, recall_score, classification_report, f1_score,\n",
        "                             precision_recall_fscore_support)\n",
        "\n",
        "fpr, tpr, thresholds = roc_curve(reconstruction_error.true_class, reconstruction_error.reconstruction_error)\n",
        "roc_auc = auc(fpr, tpr)\n",
        "\n",
        "\n",
        "plt.title('Receiver Operating Characteristic')\n",
        "plt.plot(fpr, tpr, label='AUC = %0.2f'% roc_auc)\n",
        "plt.legend(loc='lower right')\n",
        "plt.plot([0,1],[0,1],'r--')\n",
        "plt.xlim([-0.001, 1])\n",
        "plt.ylim([0, 1.001])\n",
        "plt.ylabel('True Positive Rate')\n",
        "plt.xlabel('False Positive Rate')\n",
        "plt.show();"
      ],
      "execution_count": 36,
      "outputs": [
        {
          "output_type": "display_data",
          "data": {
            "image/png": "[encoded data removed]",
            "text/plain": [
              "<Figure size 432x288 with 1 Axes>"
            ]
          },
          "metadata": {
            "tags": [],
            "needs_background": "light"
          }
        }
      ]
    },
    {
      "cell_type": "code",
      "metadata": {
        "id": "j42qAa-Himz7",
        "colab_type": "code",
        "colab": {
          "base_uri": "https://localhost:8080/",
          "height": 387
        },
        "outputId": "cddf13ef-37c2-404a-ea40-12b9a6316eac"
      },
      "source": [
        "print(\"The ROC curve is plotted with TPR against the FPR.\")\n",
        "print(\"Higher the AUC(Area under curve), better the model is at predicting 0s as 0s and 1s as 1s.\")\n",
        "Image(url= \"https://miro.medium.com/max/451/1*pk05QGzoWhCgRiiFbz-oKQ.png\")"
      ],
      "execution_count": 37,
      "outputs": [
        {
          "output_type": "stream",
          "text": [
            "The ROC curve is plotted with TPR against the FPR.\n",
            "Higher the AUC(Area under curve), better the model is at predicting 0s as 0s and 1s as 1s.\n"
          ],
          "name": "stdout"
        },
        {
          "output_type": "execute_result",
          "data": {
            "text/html": [
              "<img src=\"https://miro.medium.com/max/451/1*pk05QGzoWhCgRiiFbz-oKQ.png\"/>"
            ],
            "text/plain": [
              "<IPython.core.display.Image object>"
            ]
          },
          "metadata": {
            "tags": []
          },
          "execution_count": 37
        }
      ]
    },
    {
      "cell_type": "code",
      "metadata": {
        "id": "Ci0I7UkNXLJn",
        "colab_type": "code",
        "colab": {
          "base_uri": "https://localhost:8080/",
          "height": 295
        },
        "outputId": "bfc87b09-5083-4ae8-bd85-6fecc7a0642b"
      },
      "source": [
        "threshold = 0.075\n",
        "\n",
        "groups = reconstruction_error.groupby('true_class')\n",
        "fig, ax = plt.subplots()\n",
        "\n",
        "for name, group in groups:\n",
        "    ax.plot(group.index, group.reconstruction_error, marker='o', ms=3.5, linestyle='',\n",
        "            label= \"Malicious\" if name == 1 else \"Benign\")\n",
        "ax.hlines(threshold, ax.get_xlim()[0], ax.get_xlim()[1], colors=\"r\", zorder=100, label='Threshold')\n",
        "ax.legend()\n",
        "plt.title(\"Reconstruction error for different classes\")\n",
        "plt.ylabel(\"Reconstruction error\")\n",
        "plt.xlabel(\"Data point index\")\n",
        "plt.show();"
      ],
      "execution_count": 38,
      "outputs": [
        {
          "output_type": "display_data",
          "data": {
            "image/png": "[encoded data removed]",
            "text/plain": [
              "<Figure size 432x288 with 1 Axes>"
            ]
          },
          "metadata": {
            "tags": [],
            "needs_background": "light"
          }
        }
      ]
    },
    {
      "cell_type": "code",
      "metadata": {
        "id": "xOgMiLg9Xfe3",
        "colab_type": "code",
        "colab": {
          "base_uri": "https://localhost:8080/",
          "height": 730
        },
        "outputId": "984ca69b-a983-42c9-f621-501658dc57cd"
      },
      "source": [
        "LABELS = [\"Benign\", \"Malicious\"]\n",
        "y_pred = [1 if e > threshold else 0 for e in reconstruction_error.reconstruction_error.values]\n",
        "conf_matrix = confusion_matrix(reconstruction_error.true_class, y_pred)\n",
        "plt.figure(figsize=(12, 12))\n",
        "sns.heatmap(conf_matrix, xticklabels=LABELS, yticklabels=LABELS, annot=True, fmt=\"d\");\n",
        "plt.title(\"Confusion matrix\")\n",
        "plt.ylabel('True class')\n",
        "plt.xlabel('Predicted class')\n",
        "plt.show()"
      ],
      "execution_count": 39,
      "outputs": [
        {
          "output_type": "display_data",
          "data": {
            "image/png": "[encoded data removed]",
            "text/plain": [
              "<Figure size 864x864 with 2 Axes>"
            ]
          },
          "metadata": {
            "tags": [],
            "needs_background": "light"
          }
        }
      ]
    },
    {
      "cell_type": "code",
      "metadata": {
        "id": "iMRbHDHJljsk",
        "colab_type": "code",
        "colab": {
          "base_uri": "https://localhost:8080/",
          "height": 651
        },
        "outputId": "6c648052-29a6-452c-94ce-39ff5c5bc924"
      },
      "source": [
        "TP = conf_matrix[0][0]\n",
        "FP = conf_matrix[0][1]\n",
        "FN = conf_matrix[1][0]\n",
        "TN = conf_matrix[1][1]\n",
        "Precision = TP / (TP + FP)\n",
        "Recall = TP / (TP + FN)\n",
        "F1 = (2 * Precision * Recall) / (Precision + Recall)\n",
        "Accuracy = (TP+TN)/(TP+FP+FN+TN)\n",
        "\n",
        "print(\"TP: You predicted benign and its benign\")\n",
        "print(\"TN: You predicted malicious and its malicious\")\n",
        "print(\"FP: You predicted benign and its malicious\")\n",
        "print(\"FN: You predicted malicious and its benign\")\n",
        "\n",
        "print(\"\\n\\nImportant evaluation metrics:\")\n",
        "print(\"Recall score: \" + str(Recall))\n",
        "print(\"Recall: Recall tells us how many of the actual positive cases we were able to predict correctly with our model.\")\n",
        "print(\"Recall is a useful metric in cases where False Negative trumps False Positive.\")\n",
        "print(\"\\nPrecision score: \" + str(Precision))\n",
        "print(\"Precision: Precision tells us how many of the correctly predicted cases actually turned out to be positive.\")\n",
        "print(\"Precision is a useful metric in cases where False Positive is a higher concern than False Negatives.\")\n",
        "print(\"\\nF1 score: \" + str(F1))\n",
        "print(\"F1: F1-score is a harmonic mean (numerical average) of Precision and Recall. \")\n",
        "print(\"If the interpretability of the F1-score is poor. This means that we don’t know what our classifier is maximizing – precision or recall?\")\n",
        "print(\"\\nAccuracy score: \" + str(Accuracy))\n",
        "Image(url= \"https://miro.medium.com/max/445/1*Z54JgbS4DUwWSknhDCvNTQ.png\")"
      ],
      "execution_count": 41,
      "outputs": [
        {
          "output_type": "stream",
          "text": [
            "TP: You predicted benign and its benign\n",
            "TN: You predicted malicious and its malicious\n",
            "FP: You predicted benign and its malicious\n",
            "FN: You predicted malicious and its benign\n",
            "\n",
            "\n",
            "Important evaluation metrics:\n",
            "Recall score: 0.9544307514928702\n",
            "Recall: Recall tells us how many of the actual positive cases we were able to predict correctly with our model.\n",
            "Recall is a useful metric in cases where False Negative trumps False Positive.\n",
            "\n",
            "Precision score: 0.8812732878707228\n",
            "Precision: Precision tells us how many of the correctly predicted cases actually turned out to be positive.\n",
            "Precision is a useful metric in cases where False Positive is a higher concern than False Negatives.\n",
            "\n",
            "F1 score: 0.9163942644094701\n",
            "F1: F1-score is a harmonic mean (numerical average) of Precision and Recall. \n",
            "If the interpretability of the F1-score is poor. This means that we don’t know what our classifier is maximizing – precision or recall?\n",
            "\n",
            "Accuracy score: 0.8456897507192181\n"
          ],
          "name": "stdout"
        },
        {
          "output_type": "execute_result",
          "data": {
            "text/html": [
              "<img src=\"https://miro.medium.com/max/445/1*Z54JgbS4DUwWSknhDCvNTQ.png\"/>"
            ],
            "text/plain": [
              "<IPython.core.display.Image object>"
            ]
          },
          "metadata": {
            "tags": []
          },
          "execution_count": 41
        }
      ]
    }
  ]
}